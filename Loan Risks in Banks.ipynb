{
 "cells": [
  {
   "cell_type": "markdown",
   "metadata": {},
   "source": [
    "                     Project Title - Loan Default"
   ]
  },
  {
   "cell_type": "markdown",
   "metadata": {},
   "source": [
    "    Contents"
   ]
  },
  {
   "cell_type": "markdown",
   "metadata": {},
   "source": [
    "1. Data Sourcing and Variable Selection\n",
    "2. Data Exploration and Data Cleaning\n",
    "3. Outlier Detection, Correction and Missing Value Imputation\n",
    "4. Feature Engineering\n",
    "5. Dummy Variable Creation and Sampling\n",
    "6. Cost Sensitive Learning\n",
    "7. Model Building and Evaluation\n",
    "8. Finalizing, Cross-Validating, Viewing the Performance"
   ]
  },
  {
   "cell_type": "markdown",
   "metadata": {},
   "source": [
    "                    1 (a) Data Sourcing"
   ]
  },
  {
   "cell_type": "code",
   "execution_count": 1,
   "metadata": {},
   "outputs": [],
   "source": [
    "# Connect to the working directory\n",
    "import os\n",
    "os.getcwd()\n",
    "os.chdir('C:/Users/chandrahas/Downloads/Loan Default Project')\n",
    "# import the required package and libraries\n",
    "import pandas as pd\n",
    "import numpy as np\n",
    "import matplotlib.pyplot as plt"
   ]
  },
  {
   "cell_type": "code",
   "execution_count": 2,
   "metadata": {
    "scrolled": true
   },
   "outputs": [
    {
     "name": "stderr",
     "output_type": "stream",
     "text": [
      "C:\\Users\\chandrahas\\Anaconda3\\lib\\site-packages\\IPython\\core\\interactiveshell.py:3049: DtypeWarning: Columns (17,45,53) have mixed types. Specify dtype option on import or set low_memory=False.\n",
      "  interactivity=interactivity, compiler=compiler, result=result)\n"
     ]
    },
    {
     "data": {
      "text/html": [
       "<div>\n",
       "<style scoped>\n",
       "    .dataframe tbody tr th:only-of-type {\n",
       "        vertical-align: middle;\n",
       "    }\n",
       "\n",
       "    .dataframe tbody tr th {\n",
       "        vertical-align: top;\n",
       "    }\n",
       "\n",
       "    .dataframe thead th {\n",
       "        text-align: right;\n",
       "    }\n",
       "</style>\n",
       "<table border=\"1\" class=\"dataframe\">\n",
       "  <thead>\n",
       "    <tr style=\"text-align: right;\">\n",
       "      <th></th>\n",
       "      <th>id</th>\n",
       "      <th>member_id</th>\n",
       "      <th>loan_amnt</th>\n",
       "      <th>funded_amnt</th>\n",
       "      <th>funded_amnt_inv</th>\n",
       "      <th>term</th>\n",
       "      <th>int_rate</th>\n",
       "      <th>installment</th>\n",
       "      <th>grade</th>\n",
       "      <th>sub_grade</th>\n",
       "      <th>...</th>\n",
       "      <th>il_util</th>\n",
       "      <th>open_rv_12m</th>\n",
       "      <th>open_rv_24m</th>\n",
       "      <th>max_bal_bc</th>\n",
       "      <th>all_util</th>\n",
       "      <th>total_rev_hi_lim</th>\n",
       "      <th>inq_fi</th>\n",
       "      <th>total_cu_tl</th>\n",
       "      <th>inq_last_12m</th>\n",
       "      <th>default_ind</th>\n",
       "    </tr>\n",
       "  </thead>\n",
       "  <tbody>\n",
       "    <tr>\n",
       "      <th>0</th>\n",
       "      <td>1077501</td>\n",
       "      <td>1296599</td>\n",
       "      <td>5000</td>\n",
       "      <td>5000</td>\n",
       "      <td>4975.0</td>\n",
       "      <td>36 months</td>\n",
       "      <td>10.65</td>\n",
       "      <td>162.87</td>\n",
       "      <td>B</td>\n",
       "      <td>B2</td>\n",
       "      <td>...</td>\n",
       "      <td>NaN</td>\n",
       "      <td>NaN</td>\n",
       "      <td>NaN</td>\n",
       "      <td>NaN</td>\n",
       "      <td>NaN</td>\n",
       "      <td>NaN</td>\n",
       "      <td>NaN</td>\n",
       "      <td>NaN</td>\n",
       "      <td>NaN</td>\n",
       "      <td>0</td>\n",
       "    </tr>\n",
       "    <tr>\n",
       "      <th>1</th>\n",
       "      <td>1077430</td>\n",
       "      <td>1314167</td>\n",
       "      <td>2500</td>\n",
       "      <td>2500</td>\n",
       "      <td>2500.0</td>\n",
       "      <td>60 months</td>\n",
       "      <td>15.27</td>\n",
       "      <td>59.83</td>\n",
       "      <td>C</td>\n",
       "      <td>C4</td>\n",
       "      <td>...</td>\n",
       "      <td>NaN</td>\n",
       "      <td>NaN</td>\n",
       "      <td>NaN</td>\n",
       "      <td>NaN</td>\n",
       "      <td>NaN</td>\n",
       "      <td>NaN</td>\n",
       "      <td>NaN</td>\n",
       "      <td>NaN</td>\n",
       "      <td>NaN</td>\n",
       "      <td>1</td>\n",
       "    </tr>\n",
       "    <tr>\n",
       "      <th>2</th>\n",
       "      <td>1077175</td>\n",
       "      <td>1313524</td>\n",
       "      <td>2400</td>\n",
       "      <td>2400</td>\n",
       "      <td>2400.0</td>\n",
       "      <td>36 months</td>\n",
       "      <td>15.96</td>\n",
       "      <td>84.33</td>\n",
       "      <td>C</td>\n",
       "      <td>C5</td>\n",
       "      <td>...</td>\n",
       "      <td>NaN</td>\n",
       "      <td>NaN</td>\n",
       "      <td>NaN</td>\n",
       "      <td>NaN</td>\n",
       "      <td>NaN</td>\n",
       "      <td>NaN</td>\n",
       "      <td>NaN</td>\n",
       "      <td>NaN</td>\n",
       "      <td>NaN</td>\n",
       "      <td>0</td>\n",
       "    </tr>\n",
       "    <tr>\n",
       "      <th>3</th>\n",
       "      <td>1076863</td>\n",
       "      <td>1277178</td>\n",
       "      <td>10000</td>\n",
       "      <td>10000</td>\n",
       "      <td>10000.0</td>\n",
       "      <td>36 months</td>\n",
       "      <td>13.49</td>\n",
       "      <td>339.31</td>\n",
       "      <td>C</td>\n",
       "      <td>C1</td>\n",
       "      <td>...</td>\n",
       "      <td>NaN</td>\n",
       "      <td>NaN</td>\n",
       "      <td>NaN</td>\n",
       "      <td>NaN</td>\n",
       "      <td>NaN</td>\n",
       "      <td>NaN</td>\n",
       "      <td>NaN</td>\n",
       "      <td>NaN</td>\n",
       "      <td>NaN</td>\n",
       "      <td>0</td>\n",
       "    </tr>\n",
       "    <tr>\n",
       "      <th>4</th>\n",
       "      <td>1075358</td>\n",
       "      <td>1311748</td>\n",
       "      <td>3000</td>\n",
       "      <td>3000</td>\n",
       "      <td>3000.0</td>\n",
       "      <td>60 months</td>\n",
       "      <td>12.69</td>\n",
       "      <td>67.79</td>\n",
       "      <td>B</td>\n",
       "      <td>B5</td>\n",
       "      <td>...</td>\n",
       "      <td>NaN</td>\n",
       "      <td>NaN</td>\n",
       "      <td>NaN</td>\n",
       "      <td>NaN</td>\n",
       "      <td>NaN</td>\n",
       "      <td>NaN</td>\n",
       "      <td>NaN</td>\n",
       "      <td>NaN</td>\n",
       "      <td>NaN</td>\n",
       "      <td>0</td>\n",
       "    </tr>\n",
       "  </tbody>\n",
       "</table>\n",
       "<p>5 rows × 73 columns</p>\n",
       "</div>"
      ],
      "text/plain": [
       "        id  member_id  loan_amnt  funded_amnt  funded_amnt_inv        term  \\\n",
       "0  1077501    1296599       5000         5000           4975.0   36 months   \n",
       "1  1077430    1314167       2500         2500           2500.0   60 months   \n",
       "2  1077175    1313524       2400         2400           2400.0   36 months   \n",
       "3  1076863    1277178      10000        10000          10000.0   36 months   \n",
       "4  1075358    1311748       3000         3000           3000.0   60 months   \n",
       "\n",
       "   int_rate  installment grade sub_grade  ... il_util open_rv_12m open_rv_24m  \\\n",
       "0     10.65       162.87     B        B2  ...     NaN         NaN         NaN   \n",
       "1     15.27        59.83     C        C4  ...     NaN         NaN         NaN   \n",
       "2     15.96        84.33     C        C5  ...     NaN         NaN         NaN   \n",
       "3     13.49       339.31     C        C1  ...     NaN         NaN         NaN   \n",
       "4     12.69        67.79     B        B5  ...     NaN         NaN         NaN   \n",
       "\n",
       "   max_bal_bc all_util total_rev_hi_lim inq_fi total_cu_tl inq_last_12m  \\\n",
       "0         NaN      NaN              NaN    NaN         NaN          NaN   \n",
       "1         NaN      NaN              NaN    NaN         NaN          NaN   \n",
       "2         NaN      NaN              NaN    NaN         NaN          NaN   \n",
       "3         NaN      NaN              NaN    NaN         NaN          NaN   \n",
       "4         NaN      NaN              NaN    NaN         NaN          NaN   \n",
       "\n",
       "  default_ind  \n",
       "0           0  \n",
       "1           1  \n",
       "2           0  \n",
       "3           0  \n",
       "4           0  \n",
       "\n",
       "[5 rows x 73 columns]"
      ]
     },
     "execution_count": 2,
     "metadata": {},
     "output_type": "execute_result"
    }
   ],
   "source": [
    "# Import the fulldata\n",
    "fulldata=pd.read_csv('fulldata.csv')\n",
    "fulldata.head()"
   ]
  },
  {
   "cell_type": "code",
   "execution_count": 3,
   "metadata": {},
   "outputs": [
    {
     "data": {
      "text/plain": [
       "(855969, 73)"
      ]
     },
     "execution_count": 3,
     "metadata": {},
     "output_type": "execute_result"
    }
   ],
   "source": [
    "fulldata.shape"
   ]
  },
  {
   "cell_type": "markdown",
   "metadata": {},
   "source": [
    "                       1 (b) Variable Selection"
   ]
  },
  {
   "cell_type": "markdown",
   "metadata": {},
   "source": [
    "            (i) Missing Value Ratio"
   ]
  },
  {
   "cell_type": "code",
   "execution_count": 4,
   "metadata": {},
   "outputs": [
    {
     "data": {
      "text/plain": [
       "desc                           734157\n",
       "mths_since_last_delinq         439812\n",
       "mths_since_last_record         724785\n",
       "mths_since_last_major_derog    642830\n",
       "annual_inc_joint               855527\n",
       "dti_joint                      855529\n",
       "verification_status_joint      855527\n",
       "open_acc_6m                    842681\n",
       "open_il_6m                     842681\n",
       "open_il_12m                    842681\n",
       "open_il_24m                    842681\n",
       "mths_since_rcnt_il             843035\n",
       "total_bal_il                   842681\n",
       "il_util                        844360\n",
       "open_rv_12m                    842681\n",
       "open_rv_24m                    842681\n",
       "max_bal_bc                     842681\n",
       "all_util                       842681\n",
       "inq_fi                         842681\n",
       "total_cu_tl                    842681\n",
       "inq_last_12m                   842681\n",
       "dtype: int64"
      ]
     },
     "execution_count": 4,
     "metadata": {},
     "output_type": "execute_result"
    }
   ],
   "source": [
    "# Filter the column which has more than 30% of NA values\n",
    "NA_columns=fulldata.isnull().sum()\n",
    "NA_col_3P=NA_columns[NA_columns.values> 0.3*len(fulldata)]\n",
    "NA_col_3P"
   ]
  },
  {
   "cell_type": "code",
   "execution_count": 5,
   "metadata": {},
   "outputs": [
    {
     "data": {
      "image/png": "[encoded data removed]",
      "text/plain": [
       "<Figure size 1440x288 with 1 Axes>"
      ]
     },
     "metadata": {
      "needs_background": "light"
     },
     "output_type": "display_data"
    }
   ],
   "source": [
    "# Plot the column name against NA values\n",
    "%matplotlib inline\n",
    "plt.figure(figsize=(20,4))\n",
    "NA_col_3P.plot(kind='bar')\n",
    "plt.title('Features with more than 30 percent NA values')\n",
    "plt.show()"
   ]
  },
  {
   "cell_type": "code",
   "execution_count": 6,
   "metadata": {},
   "outputs": [],
   "source": [
    "# Remove the column with 30% of missing values\n",
    "to_drop_3P=NA_col_3P.index\n",
    "fulldata=fulldata.drop(to_drop_3P,axis=1)"
   ]
  },
  {
   "cell_type": "code",
   "execution_count": 7,
   "metadata": {},
   "outputs": [
    {
     "data": {
      "text/plain": [
       "(855969, 52)"
      ]
     },
     "execution_count": 7,
     "metadata": {},
     "output_type": "execute_result"
    }
   ],
   "source": [
    "fulldata.shape"
   ]
  },
  {
   "cell_type": "markdown",
   "metadata": {},
   "source": [
    "            (ii) Unique Features and Low Variance Filter"
   ]
  },
  {
   "cell_type": "code",
   "execution_count": 8,
   "metadata": {},
   "outputs": [
    {
     "data": {
      "text/plain": [
       "id                            855969\n",
       "member_id                     855969\n",
       "loan_amnt                       1368\n",
       "funded_amnt                     1368\n",
       "funded_amnt_inv                 8818\n",
       "term                               2\n",
       "int_rate                         520\n",
       "installment                    67349\n",
       "grade                              7\n",
       "sub_grade                         35\n",
       "emp_title                     290910\n",
       "emp_length                        11\n",
       "home_ownership                     6\n",
       "annual_inc                     48163\n",
       "verification_status                3\n",
       "issue_d                          103\n",
       "pymnt_plan                         2\n",
       "purpose                           14\n",
       "title                          60953\n",
       "zip_code                         931\n",
       "addr_state                        51\n",
       "dti                             4074\n",
       "delinq_2yrs                       29\n",
       "earliest_cr_line                 697\n",
       "inq_last_6mths                     9\n",
       "open_acc                          77\n",
       "pub_rec                           31\n",
       "revol_bal                      72779\n",
       "revol_util                      1338\n",
       "total_acc                        134\n",
       "initial_list_status                2\n",
       "out_prncp                     236739\n",
       "out_prncp_inv                 254328\n",
       "total_pymnt                   493510\n",
       "total_pymnt_inv               494744\n",
       "total_rec_prncp               250385\n",
       "total_rec_int                 317683\n",
       "total_rec_late_fee              5320\n",
       "recoveries                     22627\n",
       "collection_recovery_fee        20388\n",
       "last_pymnt_d                      97\n",
       "last_pymnt_amnt               230321\n",
       "next_pymnt_d                       3\n",
       "last_credit_pull_d               102\n",
       "collections_12_mths_ex_med        12\n",
       "policy_code                        1\n",
       "application_type                   2\n",
       "acc_now_delinq                     8\n",
       "tot_coll_amt                   10138\n",
       "tot_cur_bal                   322286\n",
       "total_rev_hi_lim               20793\n",
       "default_ind                        2\n",
       "dtype: int64"
      ]
     },
     "execution_count": 8,
     "metadata": {},
     "output_type": "execute_result"
    }
   ],
   "source": [
    "fulldata.nunique()"
   ]
  },
  {
   "cell_type": "code",
   "execution_count": 9,
   "metadata": {},
   "outputs": [
    {
     "data": {
      "text/plain": [
       "0.0     844768\n",
       "1.0      10320\n",
       "2.0        709\n",
       "3.0         80\n",
       "4.0         22\n",
       "5.0          7\n",
       "6.0          2\n",
       "7.0          1\n",
       "16.0         1\n",
       "20.0         1\n",
       "14.0         1\n",
       "10.0         1\n",
       "Name: collections_12_mths_ex_med, dtype: int64"
      ]
     },
     "execution_count": 9,
     "metadata": {},
     "output_type": "execute_result"
    }
   ],
   "source": [
    "fulldata['collections_12_mths_ex_med'].value_counts()# Most of the value are 0"
   ]
  },
  {
   "cell_type": "code",
   "execution_count": 10,
   "metadata": {},
   "outputs": [
    {
     "data": {
      "text/plain": [
       "Teacher                                    12965\n",
       "Manager                                    10821\n",
       "Registered Nurse                            5341\n",
       "RN                                          5182\n",
       "Owner                                       5157\n",
       "Supervisor                                  4792\n",
       "Sales                                       4051\n",
       "Project Manager                             3856\n",
       "Driver                                      3417\n",
       "Office Manager                              3404\n",
       "Director                                    3067\n",
       "General Manager                             3060\n",
       "manager                                     2994\n",
       "teacher                                     2820\n",
       "owner                                       2727\n",
       "Engineer                                    2574\n",
       "President                                   2478\n",
       "driver                                      2319\n",
       "Vice President                              2283\n",
       "Attorney                                    2074\n",
       "Operations Manager                          1995\n",
       "Accountant                                  1978\n",
       "Administrative Assistant                    1943\n",
       "Sales Manager                               1780\n",
       "Police Officer                              1668\n",
       "Account Manager                             1665\n",
       "sales                                       1651\n",
       "supervisor                                  1611\n",
       "Executive Assistant                         1549\n",
       "Analyst                                     1494\n",
       "                                           ...  \n",
       "advanced MSA                                   1\n",
       "Smith & Harroff, Inc.                          1\n",
       "Consultant, Professional Services              1\n",
       "Riverside Sheriffs' Association                1\n",
       "graphic design                                 1\n",
       "Orlando Sentinel                               1\n",
       "Sr. Mortgage Loan Consultant                   1\n",
       "LEVEL 2 X-RAY TECHNICIAN                       1\n",
       "CRC Specialist                                 1\n",
       "rental sale agent                              1\n",
       "asst. unit manager                             1\n",
       "HR Project Lead                                1\n",
       "G&A enterprise                                 1\n",
       "Veterans Medical Center                        1\n",
       "Miami-Dade Fire Rescue                         1\n",
       "maintennce tech                                1\n",
       "Product Finishes Representative                1\n",
       "Bromley Outing Club                            1\n",
       "Cache Creek Casino Resot                       1\n",
       "Tatical Aircraft Technician                    1\n",
       "Meadville medical center                       1\n",
       "RED-LIGHT SECTION MANGER                       1\n",
       "Cole Scott & Kissane, P.A.                     1\n",
       "distribution alternaives                       1\n",
       "Director of Recruitment & new business         1\n",
       "Assistant deli manager                         1\n",
       "Senior Practice Consultant                     1\n",
       "Regional Licensing Supervisor/CPO              1\n",
       "New Patient Specialist III                     1\n",
       "Ourisman Honda                                 1\n",
       "Name: emp_title, Length: 290910, dtype: int64"
      ]
     },
     "execution_count": 10,
     "metadata": {},
     "output_type": "execute_result"
    }
   ],
   "source": [
    "fulldata['emp_title'].value_counts()"
   ]
  },
  {
   "cell_type": "code",
   "execution_count": 11,
   "metadata": {},
   "outputs": [
    {
     "data": {
      "text/plain": [
       "Debt consolidation                        398089\n",
       "Credit card refinancing                   159228\n",
       "Home improvement                           38633\n",
       "Other                                      30522\n",
       "Debt Consolidation                         15469\n",
       "Major purchase                             11519\n",
       "Medical expenses                            6408\n",
       "Business                                    6325\n",
       "Car financing                               5372\n",
       "Consolidation                               5266\n",
       "debt consolidation                          4718\n",
       "Debt Consolidation Loan                     3744\n",
       "Moving and relocation                       3724\n",
       "Vacation                                    3640\n",
       "Credit Card Consolidation                   2326\n",
       "Home buying                                 2229\n",
       "consolidation                               2120\n",
       "Personal Loan                               2057\n",
       "Consolidation Loan                          1743\n",
       "Home Improvement                            1736\n",
       "Credit Card Refinance                       1442\n",
       "Credit Card Payoff                          1364\n",
       "Consolidate                                 1236\n",
       "Personal                                    1141\n",
       "Loan                                        1013\n",
       "Freedom                                      787\n",
       "Credit Card Loan                             776\n",
       "consolidate                                  737\n",
       "personal                                     736\n",
       "personal loan                                704\n",
       "                                           ...  \n",
       "Camp Fees                                      1\n",
       "New furniture, TV, and auto repairs            1\n",
       "ESSENTIALLY ENRICHED                           1\n",
       "consolidate for me                             1\n",
       "Kithcen Improvement                            1\n",
       "Credit Card re finance                         1\n",
       "auto restoration                               1\n",
       "new transmission                               1\n",
       "cc debt free loan                              1\n",
       "1paymentamonth                                 1\n",
       "Regaining Balance                              1\n",
       "Clearing credit                                1\n",
       "Refi expences                                  1\n",
       "From 19.9 To 9.9                               1\n",
       "FuturePlans                                    1\n",
       "Jason Weidert                                  1\n",
       "Much Better Stability                          1\n",
       "Boat and camper                                1\n",
       "PayPal payoff                                  1\n",
       "Refinance 29% Visa Card                        1\n",
       "All Bills in One                               1\n",
       "Our Healthy Vending Biz is Growing!!!          1\n",
       "Refinancing CC Card                            1\n",
       "BAC stock purchase loan, target $25            1\n",
       "Debt Consolidation / Card Cancellation         1\n",
       "My Credit Consolidation                        1\n",
       "Money to Spare                                 1\n",
       "MovingtoMaryland                               1\n",
       "Paying off Credit Cards and Loan               1\n",
       "CCRL                                           1\n",
       "Name: title, Length: 60953, dtype: int64"
      ]
     },
     "execution_count": 11,
     "metadata": {},
     "output_type": "execute_result"
    }
   ],
   "source": [
    "fulldata['title'].value_counts()"
   ]
  },
  {
   "cell_type": "code",
   "execution_count": 12,
   "metadata": {},
   "outputs": [
    {
     "data": {
      "text/plain": [
       "debt_consolidation    505392\n",
       "credit_card           200144\n",
       "home_improvement       49956\n",
       "other                  40949\n",
       "major_purchase         16587\n",
       "small_business          9785\n",
       "car                     8593\n",
       "medical                 8193\n",
       "moving                  5160\n",
       "vacation                4542\n",
       "house                   3513\n",
       "wedding                 2280\n",
       "renewable_energy         549\n",
       "educational              326\n",
       "Name: purpose, dtype: int64"
      ]
     },
     "execution_count": 12,
     "metadata": {},
     "output_type": "execute_result"
    }
   ],
   "source": [
    "fulldata['purpose'].value_counts()"
   ]
  },
  {
   "cell_type": "code",
   "execution_count": 13,
   "metadata": {},
   "outputs": [
    {
     "data": {
      "text/plain": [
       "B3    54958\n",
       "B4    54116\n",
       "C1    51588\n",
       "C2    50457\n",
       "C3    48337\n",
       "B2    47589\n",
       "B5    47333\n",
       "C4    46941\n",
       "B1    44002\n",
       "A5    43957\n",
       "C5    39532\n",
       "D1    34667\n",
       "A4    33991\n",
       "D2    28385\n",
       "D3    25289\n",
       "D4    24253\n",
       "A3    23095\n",
       "A1    22516\n",
       "A2    22106\n",
       "D5    20208\n",
       "E1    17230\n",
       "E2    15994\n",
       "E3    13294\n",
       "E4    11011\n",
       "E5     8919\n",
       "F1     6702\n",
       "F2     4979\n",
       "F3     4099\n",
       "F4     3168\n",
       "F5     2380\n",
       "G1     1698\n",
       "G2     1259\n",
       "G3      877\n",
       "G4      570\n",
       "G5      469\n",
       "Name: sub_grade, dtype: int64"
      ]
     },
     "execution_count": 13,
     "metadata": {},
     "output_type": "execute_result"
    }
   ],
   "source": [
    "fulldata['sub_grade'].value_counts()"
   ]
  },
  {
   "cell_type": "code",
   "execution_count": 14,
   "metadata": {},
   "outputs": [
    {
     "data": {
      "text/plain": [
       "n    855964\n",
       "y         5\n",
       "Name: pymnt_plan, dtype: int64"
      ]
     },
     "execution_count": 14,
     "metadata": {},
     "output_type": "execute_result"
    }
   ],
   "source": [
    "fulldata['pymnt_plan'].value_counts()"
   ]
  },
  {
   "cell_type": "code",
   "execution_count": 15,
   "metadata": {},
   "outputs": [
    {
     "data": {
      "text/plain": [
       "INDIVIDUAL    855527\n",
       "JOINT            442\n",
       "Name: application_type, dtype: int64"
      ]
     },
     "execution_count": 15,
     "metadata": {},
     "output_type": "execute_result"
    }
   ],
   "source": [
    "fulldata['application_type'].value_counts()"
   ]
  },
  {
   "cell_type": "code",
   "execution_count": 16,
   "metadata": {},
   "outputs": [
    {
     "data": {
      "text/plain": [
       "id                                 0\n",
       "member_id                          0\n",
       "loan_amnt                          0\n",
       "funded_amnt                        0\n",
       "funded_amnt_inv                    0\n",
       "term                               0\n",
       "int_rate                           0\n",
       "installment                        0\n",
       "grade                              0\n",
       "sub_grade                          0\n",
       "emp_title                      49443\n",
       "emp_length                     43061\n",
       "home_ownership                     0\n",
       "annual_inc                         0\n",
       "verification_status                0\n",
       "issue_d                            0\n",
       "pymnt_plan                         0\n",
       "purpose                            0\n",
       "title                             33\n",
       "zip_code                           0\n",
       "addr_state                         0\n",
       "dti                                0\n",
       "delinq_2yrs                        0\n",
       "earliest_cr_line                   0\n",
       "inq_last_6mths                     0\n",
       "open_acc                           0\n",
       "pub_rec                            0\n",
       "revol_bal                          0\n",
       "revol_util                       446\n",
       "total_acc                          0\n",
       "initial_list_status                0\n",
       "out_prncp                          0\n",
       "out_prncp_inv                      0\n",
       "total_pymnt                        0\n",
       "total_pymnt_inv                    0\n",
       "total_rec_prncp                    0\n",
       "total_rec_int                      0\n",
       "total_rec_late_fee                 0\n",
       "recoveries                         0\n",
       "collection_recovery_fee            0\n",
       "last_pymnt_d                    8862\n",
       "last_pymnt_amnt                    0\n",
       "next_pymnt_d                  252971\n",
       "last_credit_pull_d                50\n",
       "collections_12_mths_ex_med        56\n",
       "policy_code                        0\n",
       "application_type                   0\n",
       "acc_now_delinq                     0\n",
       "tot_coll_amt                   67313\n",
       "tot_cur_bal                    67313\n",
       "total_rev_hi_lim               67313\n",
       "default_ind                        0\n",
       "dtype: int64"
      ]
     },
     "execution_count": 16,
     "metadata": {},
     "output_type": "execute_result"
    }
   ],
   "source": [
    "fulldata.isnull().sum()"
   ]
  },
  {
   "cell_type": "markdown",
   "metadata": {},
   "source": [
    "We can remove emp_title, because it has more than 290909 unique values and around 49444 NA values and imputing them or deleting rows from relevant data will lead to loss of data, hence, we will take out that column itself.\n",
    "\n",
    "title column can be removed because it is redundant with purpose column which has fewer categories.\n",
    "\n",
    "Sub-grade is redundant with grade, so we can remove it better\n",
    " \n",
    "pymnt_plan has 855964 no, application_type has 855527 individual level, So it won't explain anything\n",
    "\n",
    "most of the collections_12_mths_ex_med values are zero"
   ]
  },
  {
   "cell_type": "code",
   "execution_count": 17,
   "metadata": {},
   "outputs": [],
   "source": [
    "not_required_columns=['id','member_id','zip_code','earliest_cr_line','collections_12_mths_ex_med','emp_title','title','policy_code','application_type','sub_grade','pymnt_plan']"
   ]
  },
  {
   "cell_type": "code",
   "execution_count": 18,
   "metadata": {},
   "outputs": [
    {
     "data": {
      "text/plain": [
       "(855969, 41)"
      ]
     },
     "execution_count": 18,
     "metadata": {},
     "output_type": "execute_result"
    }
   ],
   "source": [
    "fulldata=fulldata.drop(not_required_columns,axis=1)\n",
    "fulldata.shape"
   ]
  },
  {
   "cell_type": "code",
   "execution_count": 19,
   "metadata": {},
   "outputs": [
    {
     "data": {
      "text/plain": [
       "Index(['loan_amnt', 'funded_amnt', 'funded_amnt_inv', 'term', 'int_rate',\n",
       "       'installment', 'grade', 'emp_length', 'home_ownership', 'annual_inc',\n",
       "       'verification_status', 'issue_d', 'purpose', 'addr_state', 'dti',\n",
       "       'delinq_2yrs', 'inq_last_6mths', 'open_acc', 'pub_rec', 'revol_bal',\n",
       "       'revol_util', 'total_acc', 'initial_list_status', 'out_prncp',\n",
       "       'out_prncp_inv', 'total_pymnt', 'total_pymnt_inv', 'total_rec_prncp',\n",
       "       'total_rec_int', 'total_rec_late_fee', 'recoveries',\n",
       "       'collection_recovery_fee', 'last_pymnt_d', 'last_pymnt_amnt',\n",
       "       'next_pymnt_d', 'last_credit_pull_d', 'acc_now_delinq', 'tot_coll_amt',\n",
       "       'tot_cur_bal', 'total_rev_hi_lim', 'default_ind'],\n",
       "      dtype='object')"
      ]
     },
     "execution_count": 19,
     "metadata": {},
     "output_type": "execute_result"
    }
   ],
   "source": [
    "fulldata.columns"
   ]
  },
  {
   "cell_type": "markdown",
   "metadata": {},
   "source": [
    "          (iii) Variables which would not be present when we make decision"
   ]
  },
  {
   "cell_type": "markdown",
   "metadata": {},
   "source": [
    "Variables such as funded_amnt, funded_amnt_inv,out_prncp, out_prncp_inv, total_pymnt, total_pymnt_inv, total_rec_int, total_rec_late_fee, total_rec_prncp etc. are basically customer payment behaiviour parameters which will not be available during decision making."
   ]
  },
  {
   "cell_type": "code",
   "execution_count": 20,
   "metadata": {},
   "outputs": [
    {
     "data": {
      "text/plain": [
       "(855969, 25)"
      ]
     },
     "execution_count": 20,
     "metadata": {},
     "output_type": "execute_result"
    }
   ],
   "source": [
    "not_present_decision=['last_pymnt_d','last_credit_pull_d','funded_amnt','funded_amnt_inv','out_prncp','out_prncp_inv','total_pymnt_inv','total_pymnt','total_pymnt_inv','total_rec_prncp','total_rec_int','total_rec_late_fee','recoveries','collection_recovery_fee','last_pymnt_amnt','next_pymnt_d','acc_now_delinq']\n",
    "fulldata=fulldata.drop(not_present_decision,axis=1)\n",
    "fulldata.shape"
   ]
  },
  {
   "cell_type": "code",
   "execution_count": 21,
   "metadata": {},
   "outputs": [],
   "source": [
    "fulldata.to_csv('fullset.csv' , index=False)"
   ]
  },
  {
   "cell_type": "markdown",
   "metadata": {},
   "source": [
    "                                2. Data Exploration and Data Cleaning "
   ]
  },
  {
   "cell_type": "code",
   "execution_count": 22,
   "metadata": {},
   "outputs": [],
   "source": [
    "# Read the saved csv file with 26 variables\n",
    "df=pd.read_csv('fullset.csv')"
   ]
  },
  {
   "cell_type": "code",
   "execution_count": 23,
   "metadata": {},
   "outputs": [
    {
     "data": {
      "text/plain": [
       "loan_amnt                int64\n",
       "term                    object\n",
       "int_rate               float64\n",
       "installment            float64\n",
       "grade                   object\n",
       "emp_length              object\n",
       "home_ownership          object\n",
       "annual_inc             float64\n",
       "verification_status     object\n",
       "issue_d                 object\n",
       "purpose                 object\n",
       "addr_state              object\n",
       "dti                    float64\n",
       "delinq_2yrs              int64\n",
       "inq_last_6mths           int64\n",
       "open_acc                 int64\n",
       "pub_rec                  int64\n",
       "revol_bal                int64\n",
       "revol_util             float64\n",
       "total_acc                int64\n",
       "initial_list_status     object\n",
       "tot_coll_amt           float64\n",
       "tot_cur_bal            float64\n",
       "total_rev_hi_lim       float64\n",
       "default_ind              int64\n",
       "dtype: object"
      ]
     },
     "execution_count": 23,
     "metadata": {},
     "output_type": "execute_result"
    }
   ],
   "source": [
    "df.dtypes"
   ]
  },
  {
   "cell_type": "code",
   "execution_count": 24,
   "metadata": {},
   "outputs": [],
   "source": [
    "# change the data types for few variables\n",
    "df['default_ind']=df['default_ind'].astype(object)\n",
    "df['delinq_2yrs']=df['delinq_2yrs'].astype(object)\n",
    "df['pub_rec']=df['pub_rec'].astype(object)"
   ]
  },
  {
   "cell_type": "code",
   "execution_count": 25,
   "metadata": {},
   "outputs": [
    {
     "data": {
      "text/html": [
       "<div>\n",
       "<style scoped>\n",
       "    .dataframe tbody tr th:only-of-type {\n",
       "        vertical-align: middle;\n",
       "    }\n",
       "\n",
       "    .dataframe tbody tr th {\n",
       "        vertical-align: top;\n",
       "    }\n",
       "\n",
       "    .dataframe thead th {\n",
       "        text-align: right;\n",
       "    }\n",
       "</style>\n",
       "<table border=\"1\" class=\"dataframe\">\n",
       "  <thead>\n",
       "    <tr style=\"text-align: right;\">\n",
       "      <th></th>\n",
       "      <th>loan_amnt</th>\n",
       "      <th>int_rate</th>\n",
       "      <th>installment</th>\n",
       "      <th>annual_inc</th>\n",
       "      <th>dti</th>\n",
       "      <th>inq_last_6mths</th>\n",
       "      <th>open_acc</th>\n",
       "      <th>revol_bal</th>\n",
       "      <th>revol_util</th>\n",
       "      <th>total_acc</th>\n",
       "      <th>tot_coll_amt</th>\n",
       "      <th>tot_cur_bal</th>\n",
       "      <th>total_rev_hi_lim</th>\n",
       "    </tr>\n",
       "  </thead>\n",
       "  <tbody>\n",
       "    <tr>\n",
       "      <th>loan_amnt</th>\n",
       "      <td>1.000000</td>\n",
       "      <td>0.142966</td>\n",
       "      <td>0.944870</td>\n",
       "      <td>0.335209</td>\n",
       "      <td>0.020189</td>\n",
       "      <td>-0.028928</td>\n",
       "      <td>0.198926</td>\n",
       "      <td>0.337489</td>\n",
       "      <td>0.119635</td>\n",
       "      <td>0.222084</td>\n",
       "      <td>-0.004272</td>\n",
       "      <td>0.329130</td>\n",
       "      <td>0.312072</td>\n",
       "    </tr>\n",
       "    <tr>\n",
       "      <th>int_rate</th>\n",
       "      <td>0.142966</td>\n",
       "      <td>1.000000</td>\n",
       "      <td>0.130468</td>\n",
       "      <td>-0.073825</td>\n",
       "      <td>0.078454</td>\n",
       "      <td>0.231705</td>\n",
       "      <td>-0.011091</td>\n",
       "      <td>-0.035344</td>\n",
       "      <td>0.271687</td>\n",
       "      <td>-0.039482</td>\n",
       "      <td>0.001129</td>\n",
       "      <td>-0.091430</td>\n",
       "      <td>-0.165533</td>\n",
       "    </tr>\n",
       "    <tr>\n",
       "      <th>installment</th>\n",
       "      <td>0.944870</td>\n",
       "      <td>0.130468</td>\n",
       "      <td>1.000000</td>\n",
       "      <td>0.328578</td>\n",
       "      <td>0.013909</td>\n",
       "      <td>0.001659</td>\n",
       "      <td>0.183817</td>\n",
       "      <td>0.320017</td>\n",
       "      <td>0.131928</td>\n",
       "      <td>0.199872</td>\n",
       "      <td>-0.003540</td>\n",
       "      <td>0.298352</td>\n",
       "      <td>0.286857</td>\n",
       "    </tr>\n",
       "    <tr>\n",
       "      <th>annual_inc</th>\n",
       "      <td>0.335209</td>\n",
       "      <td>-0.073825</td>\n",
       "      <td>0.328578</td>\n",
       "      <td>1.000000</td>\n",
       "      <td>-0.086821</td>\n",
       "      <td>0.037251</td>\n",
       "      <td>0.139429</td>\n",
       "      <td>0.298569</td>\n",
       "      <td>0.036753</td>\n",
       "      <td>0.188651</td>\n",
       "      <td>0.001005</td>\n",
       "      <td>0.422618</td>\n",
       "      <td>0.271059</td>\n",
       "    </tr>\n",
       "    <tr>\n",
       "      <th>dti</th>\n",
       "      <td>0.020189</td>\n",
       "      <td>0.078454</td>\n",
       "      <td>0.013909</td>\n",
       "      <td>-0.086821</td>\n",
       "      <td>1.000000</td>\n",
       "      <td>-0.005860</td>\n",
       "      <td>0.142068</td>\n",
       "      <td>0.067119</td>\n",
       "      <td>0.086649</td>\n",
       "      <td>0.106266</td>\n",
       "      <td>-0.001995</td>\n",
       "      <td>-0.007133</td>\n",
       "      <td>0.032430</td>\n",
       "    </tr>\n",
       "    <tr>\n",
       "      <th>inq_last_6mths</th>\n",
       "      <td>-0.028928</td>\n",
       "      <td>0.231705</td>\n",
       "      <td>0.001659</td>\n",
       "      <td>0.037251</td>\n",
       "      <td>-0.005860</td>\n",
       "      <td>1.000000</td>\n",
       "      <td>0.116532</td>\n",
       "      <td>-0.018683</td>\n",
       "      <td>-0.088353</td>\n",
       "      <td>0.141854</td>\n",
       "      <td>0.003181</td>\n",
       "      <td>0.034806</td>\n",
       "      <td>0.006089</td>\n",
       "    </tr>\n",
       "    <tr>\n",
       "      <th>open_acc</th>\n",
       "      <td>0.198926</td>\n",
       "      <td>-0.011091</td>\n",
       "      <td>0.183817</td>\n",
       "      <td>0.139429</td>\n",
       "      <td>0.142068</td>\n",
       "      <td>0.116532</td>\n",
       "      <td>1.000000</td>\n",
       "      <td>0.225858</td>\n",
       "      <td>-0.144959</td>\n",
       "      <td>0.694850</td>\n",
       "      <td>0.000071</td>\n",
       "      <td>0.244465</td>\n",
       "      <td>0.325179</td>\n",
       "    </tr>\n",
       "    <tr>\n",
       "      <th>revol_bal</th>\n",
       "      <td>0.337489</td>\n",
       "      <td>-0.035344</td>\n",
       "      <td>0.320017</td>\n",
       "      <td>0.298569</td>\n",
       "      <td>0.067119</td>\n",
       "      <td>-0.018683</td>\n",
       "      <td>0.225858</td>\n",
       "      <td>1.000000</td>\n",
       "      <td>0.217785</td>\n",
       "      <td>0.189322</td>\n",
       "      <td>-0.006117</td>\n",
       "      <td>0.443059</td>\n",
       "      <td>0.820800</td>\n",
       "    </tr>\n",
       "    <tr>\n",
       "      <th>revol_util</th>\n",
       "      <td>0.119635</td>\n",
       "      <td>0.271687</td>\n",
       "      <td>0.131928</td>\n",
       "      <td>0.036753</td>\n",
       "      <td>0.086649</td>\n",
       "      <td>-0.088353</td>\n",
       "      <td>-0.144959</td>\n",
       "      <td>0.217785</td>\n",
       "      <td>1.000000</td>\n",
       "      <td>-0.114616</td>\n",
       "      <td>-0.009252</td>\n",
       "      <td>0.080583</td>\n",
       "      <td>-0.117724</td>\n",
       "    </tr>\n",
       "    <tr>\n",
       "      <th>total_acc</th>\n",
       "      <td>0.222084</td>\n",
       "      <td>-0.039482</td>\n",
       "      <td>0.199872</td>\n",
       "      <td>0.188651</td>\n",
       "      <td>0.106266</td>\n",
       "      <td>0.141854</td>\n",
       "      <td>0.694850</td>\n",
       "      <td>0.189322</td>\n",
       "      <td>-0.114616</td>\n",
       "      <td>1.000000</td>\n",
       "      <td>0.006463</td>\n",
       "      <td>0.311268</td>\n",
       "      <td>0.255391</td>\n",
       "    </tr>\n",
       "    <tr>\n",
       "      <th>tot_coll_amt</th>\n",
       "      <td>-0.004272</td>\n",
       "      <td>0.001129</td>\n",
       "      <td>-0.003540</td>\n",
       "      <td>0.001005</td>\n",
       "      <td>-0.001995</td>\n",
       "      <td>0.003181</td>\n",
       "      <td>0.000071</td>\n",
       "      <td>-0.006117</td>\n",
       "      <td>-0.009252</td>\n",
       "      <td>0.006463</td>\n",
       "      <td>1.000000</td>\n",
       "      <td>-0.000331</td>\n",
       "      <td>-0.005025</td>\n",
       "    </tr>\n",
       "    <tr>\n",
       "      <th>tot_cur_bal</th>\n",
       "      <td>0.329130</td>\n",
       "      <td>-0.091430</td>\n",
       "      <td>0.298352</td>\n",
       "      <td>0.422618</td>\n",
       "      <td>-0.007133</td>\n",
       "      <td>0.034806</td>\n",
       "      <td>0.244465</td>\n",
       "      <td>0.443059</td>\n",
       "      <td>0.080583</td>\n",
       "      <td>0.311268</td>\n",
       "      <td>-0.000331</td>\n",
       "      <td>1.000000</td>\n",
       "      <td>0.384867</td>\n",
       "    </tr>\n",
       "    <tr>\n",
       "      <th>total_rev_hi_lim</th>\n",
       "      <td>0.312072</td>\n",
       "      <td>-0.165533</td>\n",
       "      <td>0.286857</td>\n",
       "      <td>0.271059</td>\n",
       "      <td>0.032430</td>\n",
       "      <td>0.006089</td>\n",
       "      <td>0.325179</td>\n",
       "      <td>0.820800</td>\n",
       "      <td>-0.117724</td>\n",
       "      <td>0.255391</td>\n",
       "      <td>-0.005025</td>\n",
       "      <td>0.384867</td>\n",
       "      <td>1.000000</td>\n",
       "    </tr>\n",
       "  </tbody>\n",
       "</table>\n",
       "</div>"
      ],
      "text/plain": [
       "                  loan_amnt  int_rate  installment  annual_inc       dti  \\\n",
       "loan_amnt          1.000000  0.142966     0.944870    0.335209  0.020189   \n",
       "int_rate           0.142966  1.000000     0.130468   -0.073825  0.078454   \n",
       "installment        0.944870  0.130468     1.000000    0.328578  0.013909   \n",
       "annual_inc         0.335209 -0.073825     0.328578    1.000000 -0.086821   \n",
       "dti                0.020189  0.078454     0.013909   -0.086821  1.000000   \n",
       "inq_last_6mths    -0.028928  0.231705     0.001659    0.037251 -0.005860   \n",
       "open_acc           0.198926 -0.011091     0.183817    0.139429  0.142068   \n",
       "revol_bal          0.337489 -0.035344     0.320017    0.298569  0.067119   \n",
       "revol_util         0.119635  0.271687     0.131928    0.036753  0.086649   \n",
       "total_acc          0.222084 -0.039482     0.199872    0.188651  0.106266   \n",
       "tot_coll_amt      -0.004272  0.001129    -0.003540    0.001005 -0.001995   \n",
       "tot_cur_bal        0.329130 -0.091430     0.298352    0.422618 -0.007133   \n",
       "total_rev_hi_lim   0.312072 -0.165533     0.286857    0.271059  0.032430   \n",
       "\n",
       "                  inq_last_6mths  open_acc  revol_bal  revol_util  total_acc  \\\n",
       "loan_amnt              -0.028928  0.198926   0.337489    0.119635   0.222084   \n",
       "int_rate                0.231705 -0.011091  -0.035344    0.271687  -0.039482   \n",
       "installment             0.001659  0.183817   0.320017    0.131928   0.199872   \n",
       "annual_inc              0.037251  0.139429   0.298569    0.036753   0.188651   \n",
       "dti                    -0.005860  0.142068   0.067119    0.086649   0.106266   \n",
       "inq_last_6mths          1.000000  0.116532  -0.018683   -0.088353   0.141854   \n",
       "open_acc                0.116532  1.000000   0.225858   -0.144959   0.694850   \n",
       "revol_bal              -0.018683  0.225858   1.000000    0.217785   0.189322   \n",
       "revol_util             -0.088353 -0.144959   0.217785    1.000000  -0.114616   \n",
       "total_acc               0.141854  0.694850   0.189322   -0.114616   1.000000   \n",
       "tot_coll_amt            0.003181  0.000071  -0.006117   -0.009252   0.006463   \n",
       "tot_cur_bal             0.034806  0.244465   0.443059    0.080583   0.311268   \n",
       "total_rev_hi_lim        0.006089  0.325179   0.820800   -0.117724   0.255391   \n",
       "\n",
       "                  tot_coll_amt  tot_cur_bal  total_rev_hi_lim  \n",
       "loan_amnt            -0.004272     0.329130          0.312072  \n",
       "int_rate              0.001129    -0.091430         -0.165533  \n",
       "installment          -0.003540     0.298352          0.286857  \n",
       "annual_inc            0.001005     0.422618          0.271059  \n",
       "dti                  -0.001995    -0.007133          0.032430  \n",
       "inq_last_6mths        0.003181     0.034806          0.006089  \n",
       "open_acc              0.000071     0.244465          0.325179  \n",
       "revol_bal            -0.006117     0.443059          0.820800  \n",
       "revol_util           -0.009252     0.080583         -0.117724  \n",
       "total_acc             0.006463     0.311268          0.255391  \n",
       "tot_coll_amt          1.000000    -0.000331         -0.005025  \n",
       "tot_cur_bal          -0.000331     1.000000          0.384867  \n",
       "total_rev_hi_lim     -0.005025     0.384867          1.000000  "
      ]
     },
     "execution_count": 25,
     "metadata": {},
     "output_type": "execute_result"
    }
   ],
   "source": [
    "correlation=df.corr()\n",
    "correlation"
   ]
  },
  {
   "cell_type": "code",
   "execution_count": 26,
   "metadata": {},
   "outputs": [
    {
     "data": {
      "text/plain": [
       "MORTGAGE    429106\n",
       "RENT        342535\n",
       "OWN          84136\n",
       "OTHER          144\n",
       "NONE            45\n",
       "ANY              3\n",
       "Name: home_ownership, dtype: int64"
      ]
     },
     "execution_count": 26,
     "metadata": {},
     "output_type": "execute_result"
    }
   ],
   "source": [
    "# Home ownership\n",
    "df['home_ownership'].value_counts()"
   ]
  },
  {
   "cell_type": "code",
   "execution_count": 27,
   "metadata": {},
   "outputs": [],
   "source": [
    "# Other, None and any levels has very less observations. So removing it will be healthy for analysis\n",
    "remove = ['OTHER','NONE','ANY']\n",
    "df.drop(df[df['home_ownership'].isin(remove)].index,inplace=True)"
   ]
  },
  {
   "cell_type": "code",
   "execution_count": 28,
   "metadata": {},
   "outputs": [
    {
     "data": {
      "text/plain": [
       "(855777, 25)"
      ]
     },
     "execution_count": 28,
     "metadata": {},
     "output_type": "execute_result"
    }
   ],
   "source": [
    "df.shape"
   ]
  },
  {
   "cell_type": "code",
   "execution_count": 29,
   "metadata": {},
   "outputs": [
    {
     "data": {
      "text/html": [
       "<div>\n",
       "<style scoped>\n",
       "    .dataframe tbody tr th:only-of-type {\n",
       "        vertical-align: middle;\n",
       "    }\n",
       "\n",
       "    .dataframe tbody tr th {\n",
       "        vertical-align: top;\n",
       "    }\n",
       "\n",
       "    .dataframe thead th {\n",
       "        text-align: right;\n",
       "    }\n",
       "</style>\n",
       "<table border=\"1\" class=\"dataframe\">\n",
       "  <thead>\n",
       "    <tr style=\"text-align: right;\">\n",
       "      <th>default_ind</th>\n",
       "      <th>0</th>\n",
       "      <th>1</th>\n",
       "    </tr>\n",
       "    <tr>\n",
       "      <th>delinq_2yrs</th>\n",
       "      <th></th>\n",
       "      <th></th>\n",
       "    </tr>\n",
       "  </thead>\n",
       "  <tbody>\n",
       "    <tr>\n",
       "      <th>0</th>\n",
       "      <td>654138</td>\n",
       "      <td>38391</td>\n",
       "    </tr>\n",
       "    <tr>\n",
       "      <th>1</th>\n",
       "      <td>103319</td>\n",
       "      <td>5390</td>\n",
       "    </tr>\n",
       "    <tr>\n",
       "      <th>2</th>\n",
       "      <td>30483</td>\n",
       "      <td>1587</td>\n",
       "    </tr>\n",
       "    <tr>\n",
       "      <th>3</th>\n",
       "      <td>10839</td>\n",
       "      <td>567</td>\n",
       "    </tr>\n",
       "    <tr>\n",
       "      <th>4</th>\n",
       "      <td>4851</td>\n",
       "      <td>225</td>\n",
       "    </tr>\n",
       "    <tr>\n",
       "      <th>5</th>\n",
       "      <td>2455</td>\n",
       "      <td>127</td>\n",
       "    </tr>\n",
       "    <tr>\n",
       "      <th>6</th>\n",
       "      <td>1342</td>\n",
       "      <td>57</td>\n",
       "    </tr>\n",
       "    <tr>\n",
       "      <th>7</th>\n",
       "      <td>695</td>\n",
       "      <td>37</td>\n",
       "    </tr>\n",
       "    <tr>\n",
       "      <th>8</th>\n",
       "      <td>425</td>\n",
       "      <td>13</td>\n",
       "    </tr>\n",
       "    <tr>\n",
       "      <th>9</th>\n",
       "      <td>258</td>\n",
       "      <td>11</td>\n",
       "    </tr>\n",
       "    <tr>\n",
       "      <th>10</th>\n",
       "      <td>171</td>\n",
       "      <td>8</td>\n",
       "    </tr>\n",
       "    <tr>\n",
       "      <th>11</th>\n",
       "      <td>112</td>\n",
       "      <td>4</td>\n",
       "    </tr>\n",
       "    <tr>\n",
       "      <th>12</th>\n",
       "      <td>76</td>\n",
       "      <td>11</td>\n",
       "    </tr>\n",
       "    <tr>\n",
       "      <th>13</th>\n",
       "      <td>56</td>\n",
       "      <td>1</td>\n",
       "    </tr>\n",
       "    <tr>\n",
       "      <th>14</th>\n",
       "      <td>43</td>\n",
       "      <td>1</td>\n",
       "    </tr>\n",
       "    <tr>\n",
       "      <th>15</th>\n",
       "      <td>25</td>\n",
       "      <td>1</td>\n",
       "    </tr>\n",
       "    <tr>\n",
       "      <th>16</th>\n",
       "      <td>17</td>\n",
       "      <td>0</td>\n",
       "    </tr>\n",
       "    <tr>\n",
       "      <th>17</th>\n",
       "      <td>9</td>\n",
       "      <td>1</td>\n",
       "    </tr>\n",
       "    <tr>\n",
       "      <th>18</th>\n",
       "      <td>10</td>\n",
       "      <td>1</td>\n",
       "    </tr>\n",
       "    <tr>\n",
       "      <th>19</th>\n",
       "      <td>8</td>\n",
       "      <td>0</td>\n",
       "    </tr>\n",
       "    <tr>\n",
       "      <th>20</th>\n",
       "      <td>1</td>\n",
       "      <td>0</td>\n",
       "    </tr>\n",
       "    <tr>\n",
       "      <th>21</th>\n",
       "      <td>1</td>\n",
       "      <td>0</td>\n",
       "    </tr>\n",
       "    <tr>\n",
       "      <th>22</th>\n",
       "      <td>3</td>\n",
       "      <td>0</td>\n",
       "    </tr>\n",
       "    <tr>\n",
       "      <th>24</th>\n",
       "      <td>1</td>\n",
       "      <td>0</td>\n",
       "    </tr>\n",
       "    <tr>\n",
       "      <th>26</th>\n",
       "      <td>2</td>\n",
       "      <td>0</td>\n",
       "    </tr>\n",
       "    <tr>\n",
       "      <th>27</th>\n",
       "      <td>1</td>\n",
       "      <td>0</td>\n",
       "    </tr>\n",
       "    <tr>\n",
       "      <th>29</th>\n",
       "      <td>1</td>\n",
       "      <td>0</td>\n",
       "    </tr>\n",
       "    <tr>\n",
       "      <th>30</th>\n",
       "      <td>1</td>\n",
       "      <td>0</td>\n",
       "    </tr>\n",
       "    <tr>\n",
       "      <th>39</th>\n",
       "      <td>1</td>\n",
       "      <td>0</td>\n",
       "    </tr>\n",
       "  </tbody>\n",
       "</table>\n",
       "</div>"
      ],
      "text/plain": [
       "default_ind       0      1\n",
       "delinq_2yrs               \n",
       "0            654138  38391\n",
       "1            103319   5390\n",
       "2             30483   1587\n",
       "3             10839    567\n",
       "4              4851    225\n",
       "5              2455    127\n",
       "6              1342     57\n",
       "7               695     37\n",
       "8               425     13\n",
       "9               258     11\n",
       "10              171      8\n",
       "11              112      4\n",
       "12               76     11\n",
       "13               56      1\n",
       "14               43      1\n",
       "15               25      1\n",
       "16               17      0\n",
       "17                9      1\n",
       "18               10      1\n",
       "19                8      0\n",
       "20                1      0\n",
       "21                1      0\n",
       "22                3      0\n",
       "24                1      0\n",
       "26                2      0\n",
       "27                1      0\n",
       "29                1      0\n",
       "30                1      0\n",
       "39                1      0"
      ]
     },
     "execution_count": 29,
     "metadata": {},
     "output_type": "execute_result"
    }
   ],
   "source": [
    "# delinq_2yrs\n",
    "pd.crosstab(index=df['delinq_2yrs'],columns=df['default_ind'])                                "
   ]
  },
  {
   "cell_type": "code",
   "execution_count": 30,
   "metadata": {},
   "outputs": [],
   "source": [
    "# As most of the observations are falling in the 0 and 1 levels, combining rest of the levels makes our analysis better\n",
    "df.loc[df['delinq_2yrs']>1,'delinq_2yrs']='2_39Yrs'"
   ]
  },
  {
   "cell_type": "code",
   "execution_count": 31,
   "metadata": {},
   "outputs": [
    {
     "data": {
      "text/html": [
       "<div>\n",
       "<style scoped>\n",
       "    .dataframe tbody tr th:only-of-type {\n",
       "        vertical-align: middle;\n",
       "    }\n",
       "\n",
       "    .dataframe tbody tr th {\n",
       "        vertical-align: top;\n",
       "    }\n",
       "\n",
       "    .dataframe thead th {\n",
       "        text-align: right;\n",
       "    }\n",
       "</style>\n",
       "<table border=\"1\" class=\"dataframe\">\n",
       "  <thead>\n",
       "    <tr style=\"text-align: right;\">\n",
       "      <th>default_ind</th>\n",
       "      <th>0</th>\n",
       "      <th>1</th>\n",
       "    </tr>\n",
       "    <tr>\n",
       "      <th>delinq_2yrs</th>\n",
       "      <th></th>\n",
       "      <th></th>\n",
       "    </tr>\n",
       "  </thead>\n",
       "  <tbody>\n",
       "    <tr>\n",
       "      <th>0</th>\n",
       "      <td>654138</td>\n",
       "      <td>38391</td>\n",
       "    </tr>\n",
       "    <tr>\n",
       "      <th>1</th>\n",
       "      <td>103319</td>\n",
       "      <td>5390</td>\n",
       "    </tr>\n",
       "    <tr>\n",
       "      <th>2_39Yrs</th>\n",
       "      <td>51887</td>\n",
       "      <td>2652</td>\n",
       "    </tr>\n",
       "  </tbody>\n",
       "</table>\n",
       "</div>"
      ],
      "text/plain": [
       "default_ind       0      1\n",
       "delinq_2yrs               \n",
       "0            654138  38391\n",
       "1            103319   5390\n",
       "2_39Yrs       51887   2652"
      ]
     },
     "execution_count": 31,
     "metadata": {},
     "output_type": "execute_result"
    }
   ],
   "source": [
    "# Check\n",
    "pd.crosstab(index=df['delinq_2yrs'],columns=df['default_ind'])"
   ]
  },
  {
   "cell_type": "code",
   "execution_count": 32,
   "metadata": {},
   "outputs": [
    {
     "data": {
      "text/html": [
       "<div>\n",
       "<style scoped>\n",
       "    .dataframe tbody tr th:only-of-type {\n",
       "        vertical-align: middle;\n",
       "    }\n",
       "\n",
       "    .dataframe tbody tr th {\n",
       "        vertical-align: top;\n",
       "    }\n",
       "\n",
       "    .dataframe thead th {\n",
       "        text-align: right;\n",
       "    }\n",
       "</style>\n",
       "<table border=\"1\" class=\"dataframe\">\n",
       "  <thead>\n",
       "    <tr style=\"text-align: right;\">\n",
       "      <th>default_ind</th>\n",
       "      <th>0</th>\n",
       "      <th>1</th>\n",
       "    </tr>\n",
       "    <tr>\n",
       "      <th>purpose</th>\n",
       "      <th></th>\n",
       "      <th></th>\n",
       "    </tr>\n",
       "  </thead>\n",
       "  <tbody>\n",
       "    <tr>\n",
       "      <th>car</th>\n",
       "      <td>8134</td>\n",
       "      <td>457</td>\n",
       "    </tr>\n",
       "    <tr>\n",
       "      <th>credit_card</th>\n",
       "      <td>192029</td>\n",
       "      <td>8049</td>\n",
       "    </tr>\n",
       "    <tr>\n",
       "      <th>debt_consolidation</th>\n",
       "      <td>476951</td>\n",
       "      <td>28375</td>\n",
       "    </tr>\n",
       "    <tr>\n",
       "      <th>educational</th>\n",
       "      <td>267</td>\n",
       "      <td>56</td>\n",
       "    </tr>\n",
       "    <tr>\n",
       "      <th>home_improvement</th>\n",
       "      <td>47629</td>\n",
       "      <td>2314</td>\n",
       "    </tr>\n",
       "    <tr>\n",
       "      <th>house</th>\n",
       "      <td>3219</td>\n",
       "      <td>293</td>\n",
       "    </tr>\n",
       "    <tr>\n",
       "      <th>major_purchase</th>\n",
       "      <td>15692</td>\n",
       "      <td>888</td>\n",
       "    </tr>\n",
       "    <tr>\n",
       "      <th>medical</th>\n",
       "      <td>7606</td>\n",
       "      <td>584</td>\n",
       "    </tr>\n",
       "    <tr>\n",
       "      <th>moving</th>\n",
       "      <td>4724</td>\n",
       "      <td>435</td>\n",
       "    </tr>\n",
       "    <tr>\n",
       "      <th>other</th>\n",
       "      <td>37933</td>\n",
       "      <td>2999</td>\n",
       "    </tr>\n",
       "    <tr>\n",
       "      <th>renewable_energy</th>\n",
       "      <td>494</td>\n",
       "      <td>54</td>\n",
       "    </tr>\n",
       "    <tr>\n",
       "      <th>small_business</th>\n",
       "      <td>8388</td>\n",
       "      <td>1386</td>\n",
       "    </tr>\n",
       "    <tr>\n",
       "      <th>vacation</th>\n",
       "      <td>4264</td>\n",
       "      <td>278</td>\n",
       "    </tr>\n",
       "    <tr>\n",
       "      <th>wedding</th>\n",
       "      <td>2014</td>\n",
       "      <td>265</td>\n",
       "    </tr>\n",
       "  </tbody>\n",
       "</table>\n",
       "</div>"
      ],
      "text/plain": [
       "default_ind              0      1\n",
       "purpose                          \n",
       "car                   8134    457\n",
       "credit_card         192029   8049\n",
       "debt_consolidation  476951  28375\n",
       "educational            267     56\n",
       "home_improvement     47629   2314\n",
       "house                 3219    293\n",
       "major_purchase       15692    888\n",
       "medical               7606    584\n",
       "moving                4724    435\n",
       "other                37933   2999\n",
       "renewable_energy       494     54\n",
       "small_business        8388   1386\n",
       "vacation              4264    278\n",
       "wedding               2014    265"
      ]
     },
     "execution_count": 32,
     "metadata": {},
     "output_type": "execute_result"
    }
   ],
   "source": [
    "# purpose\n",
    "pd.crosstab(index=df['purpose'],columns=df['default_ind'])"
   ]
  },
  {
   "cell_type": "code",
   "execution_count": 33,
   "metadata": {},
   "outputs": [
    {
     "data": {
      "text/plain": [
       "debt_consolidation    505326\n",
       "credit_card           200078\n",
       "home_improvement       49943\n",
       "sub_cat                42918\n",
       "other                  40932\n",
       "major_purchase         16580\n",
       "Name: purpose, dtype: int64"
      ]
     },
     "execution_count": 33,
     "metadata": {},
     "output_type": "execute_result"
    }
   ],
   "source": [
    "# combine the levesl with fewer observations\n",
    "df['purpose'] = df['purpose'].replace({'car':'sub_cat','moving':'sub_cat','vacation':'sub_cat','house':'sub_cat','wedding':'sub_cat','renewable_energy':'sub_cat','educational':'sub_cat','small_business':'sub_cat',\n",
    "                                                             'medical':'sub_cat'})\n",
    "df['purpose'].value_counts()"
   ]
  },
  {
   "cell_type": "code",
   "execution_count": 34,
   "metadata": {},
   "outputs": [
    {
     "data": {
      "text/html": [
       "<div>\n",
       "<style scoped>\n",
       "    .dataframe tbody tr th:only-of-type {\n",
       "        vertical-align: middle;\n",
       "    }\n",
       "\n",
       "    .dataframe tbody tr th {\n",
       "        vertical-align: top;\n",
       "    }\n",
       "\n",
       "    .dataframe thead th {\n",
       "        text-align: right;\n",
       "    }\n",
       "</style>\n",
       "<table border=\"1\" class=\"dataframe\">\n",
       "  <thead>\n",
       "    <tr style=\"text-align: right;\">\n",
       "      <th>default_ind</th>\n",
       "      <th>0</th>\n",
       "      <th>1</th>\n",
       "    </tr>\n",
       "    <tr>\n",
       "      <th>inq_last_6mths</th>\n",
       "      <th></th>\n",
       "      <th></th>\n",
       "    </tr>\n",
       "  </thead>\n",
       "  <tbody>\n",
       "    <tr>\n",
       "      <th>0</th>\n",
       "      <td>462354</td>\n",
       "      <td>20222</td>\n",
       "    </tr>\n",
       "    <tr>\n",
       "      <th>1</th>\n",
       "      <td>219038</td>\n",
       "      <td>13885</td>\n",
       "    </tr>\n",
       "    <tr>\n",
       "      <th>2</th>\n",
       "      <td>83158</td>\n",
       "      <td>7294</td>\n",
       "    </tr>\n",
       "    <tr>\n",
       "      <th>3</th>\n",
       "      <td>32156</td>\n",
       "      <td>3730</td>\n",
       "    </tr>\n",
       "    <tr>\n",
       "      <th>4</th>\n",
       "      <td>8754</td>\n",
       "      <td>835</td>\n",
       "    </tr>\n",
       "    <tr>\n",
       "      <th>5</th>\n",
       "      <td>3051</td>\n",
       "      <td>308</td>\n",
       "    </tr>\n",
       "    <tr>\n",
       "      <th>6</th>\n",
       "      <td>779</td>\n",
       "      <td>143</td>\n",
       "    </tr>\n",
       "    <tr>\n",
       "      <th>7</th>\n",
       "      <td>36</td>\n",
       "      <td>12</td>\n",
       "    </tr>\n",
       "    <tr>\n",
       "      <th>8</th>\n",
       "      <td>18</td>\n",
       "      <td>4</td>\n",
       "    </tr>\n",
       "  </tbody>\n",
       "</table>\n",
       "</div>"
      ],
      "text/plain": [
       "default_ind          0      1\n",
       "inq_last_6mths               \n",
       "0               462354  20222\n",
       "1               219038  13885\n",
       "2                83158   7294\n",
       "3                32156   3730\n",
       "4                 8754    835\n",
       "5                 3051    308\n",
       "6                  779    143\n",
       "7                   36     12\n",
       "8                   18      4"
      ]
     },
     "execution_count": 34,
     "metadata": {},
     "output_type": "execute_result"
    }
   ],
   "source": [
    "# inq_last_6mths\n",
    "pd.crosstab(index=df['inq_last_6mths'],columns=df['default_ind'])                                "
   ]
  },
  {
   "cell_type": "code",
   "execution_count": 35,
   "metadata": {},
   "outputs": [
    {
     "data": {
      "text/html": [
       "<div>\n",
       "<style scoped>\n",
       "    .dataframe tbody tr th:only-of-type {\n",
       "        vertical-align: middle;\n",
       "    }\n",
       "\n",
       "    .dataframe tbody tr th {\n",
       "        vertical-align: top;\n",
       "    }\n",
       "\n",
       "    .dataframe thead th {\n",
       "        text-align: right;\n",
       "    }\n",
       "</style>\n",
       "<table border=\"1\" class=\"dataframe\">\n",
       "  <thead>\n",
       "    <tr style=\"text-align: right;\">\n",
       "      <th>default_ind</th>\n",
       "      <th>0</th>\n",
       "      <th>1</th>\n",
       "    </tr>\n",
       "    <tr>\n",
       "      <th>pub_rec</th>\n",
       "      <th></th>\n",
       "      <th></th>\n",
       "    </tr>\n",
       "  </thead>\n",
       "  <tbody>\n",
       "    <tr>\n",
       "      <th>0</th>\n",
       "      <td>684568</td>\n",
       "      <td>40699</td>\n",
       "    </tr>\n",
       "    <tr>\n",
       "      <th>1</th>\n",
       "      <td>103898</td>\n",
       "      <td>5018</td>\n",
       "    </tr>\n",
       "    <tr>\n",
       "      <th>2</th>\n",
       "      <td>13744</td>\n",
       "      <td>506</td>\n",
       "    </tr>\n",
       "    <tr>\n",
       "      <th>3</th>\n",
       "      <td>4184</td>\n",
       "      <td>121</td>\n",
       "    </tr>\n",
       "    <tr>\n",
       "      <th>4</th>\n",
       "      <td>1450</td>\n",
       "      <td>46</td>\n",
       "    </tr>\n",
       "    <tr>\n",
       "      <th>5</th>\n",
       "      <td>702</td>\n",
       "      <td>26</td>\n",
       "    </tr>\n",
       "    <tr>\n",
       "      <th>6</th>\n",
       "      <td>357</td>\n",
       "      <td>9</td>\n",
       "    </tr>\n",
       "    <tr>\n",
       "      <th>7</th>\n",
       "      <td>162</td>\n",
       "      <td>5</td>\n",
       "    </tr>\n",
       "    <tr>\n",
       "      <th>8</th>\n",
       "      <td>110</td>\n",
       "      <td>0</td>\n",
       "    </tr>\n",
       "    <tr>\n",
       "      <th>9</th>\n",
       "      <td>44</td>\n",
       "      <td>2</td>\n",
       "    </tr>\n",
       "    <tr>\n",
       "      <th>10</th>\n",
       "      <td>41</td>\n",
       "      <td>0</td>\n",
       "    </tr>\n",
       "    <tr>\n",
       "      <th>11</th>\n",
       "      <td>21</td>\n",
       "      <td>0</td>\n",
       "    </tr>\n",
       "    <tr>\n",
       "      <th>12</th>\n",
       "      <td>13</td>\n",
       "      <td>1</td>\n",
       "    </tr>\n",
       "    <tr>\n",
       "      <th>13</th>\n",
       "      <td>12</td>\n",
       "      <td>0</td>\n",
       "    </tr>\n",
       "    <tr>\n",
       "      <th>14</th>\n",
       "      <td>2</td>\n",
       "      <td>0</td>\n",
       "    </tr>\n",
       "    <tr>\n",
       "      <th>15</th>\n",
       "      <td>6</td>\n",
       "      <td>0</td>\n",
       "    </tr>\n",
       "    <tr>\n",
       "      <th>16</th>\n",
       "      <td>5</td>\n",
       "      <td>0</td>\n",
       "    </tr>\n",
       "    <tr>\n",
       "      <th>17</th>\n",
       "      <td>3</td>\n",
       "      <td>0</td>\n",
       "    </tr>\n",
       "    <tr>\n",
       "      <th>18</th>\n",
       "      <td>5</td>\n",
       "      <td>0</td>\n",
       "    </tr>\n",
       "    <tr>\n",
       "      <th>19</th>\n",
       "      <td>2</td>\n",
       "      <td>0</td>\n",
       "    </tr>\n",
       "    <tr>\n",
       "      <th>21</th>\n",
       "      <td>4</td>\n",
       "      <td>0</td>\n",
       "    </tr>\n",
       "    <tr>\n",
       "      <th>22</th>\n",
       "      <td>1</td>\n",
       "      <td>0</td>\n",
       "    </tr>\n",
       "    <tr>\n",
       "      <th>23</th>\n",
       "      <td>1</td>\n",
       "      <td>0</td>\n",
       "    </tr>\n",
       "    <tr>\n",
       "      <th>26</th>\n",
       "      <td>1</td>\n",
       "      <td>0</td>\n",
       "    </tr>\n",
       "    <tr>\n",
       "      <th>28</th>\n",
       "      <td>1</td>\n",
       "      <td>0</td>\n",
       "    </tr>\n",
       "    <tr>\n",
       "      <th>34</th>\n",
       "      <td>1</td>\n",
       "      <td>0</td>\n",
       "    </tr>\n",
       "    <tr>\n",
       "      <th>40</th>\n",
       "      <td>1</td>\n",
       "      <td>0</td>\n",
       "    </tr>\n",
       "    <tr>\n",
       "      <th>49</th>\n",
       "      <td>2</td>\n",
       "      <td>0</td>\n",
       "    </tr>\n",
       "    <tr>\n",
       "      <th>54</th>\n",
       "      <td>1</td>\n",
       "      <td>0</td>\n",
       "    </tr>\n",
       "    <tr>\n",
       "      <th>63</th>\n",
       "      <td>1</td>\n",
       "      <td>0</td>\n",
       "    </tr>\n",
       "    <tr>\n",
       "      <th>86</th>\n",
       "      <td>1</td>\n",
       "      <td>0</td>\n",
       "    </tr>\n",
       "  </tbody>\n",
       "</table>\n",
       "</div>"
      ],
      "text/plain": [
       "default_ind       0      1\n",
       "pub_rec                   \n",
       "0            684568  40699\n",
       "1            103898   5018\n",
       "2             13744    506\n",
       "3              4184    121\n",
       "4              1450     46\n",
       "5               702     26\n",
       "6               357      9\n",
       "7               162      5\n",
       "8               110      0\n",
       "9                44      2\n",
       "10               41      0\n",
       "11               21      0\n",
       "12               13      1\n",
       "13               12      0\n",
       "14                2      0\n",
       "15                6      0\n",
       "16                5      0\n",
       "17                3      0\n",
       "18                5      0\n",
       "19                2      0\n",
       "21                4      0\n",
       "22                1      0\n",
       "23                1      0\n",
       "26                1      0\n",
       "28                1      0\n",
       "34                1      0\n",
       "40                1      0\n",
       "49                2      0\n",
       "54                1      0\n",
       "63                1      0\n",
       "86                1      0"
      ]
     },
     "execution_count": 35,
     "metadata": {},
     "output_type": "execute_result"
    }
   ],
   "source": [
    "# pub_record\n",
    "pd.crosstab(index=df['pub_rec'],columns=df['default_ind'])                                                        "
   ]
  },
  {
   "cell_type": "code",
   "execution_count": 36,
   "metadata": {},
   "outputs": [
    {
     "data": {
      "text/plain": [
       "0       725267\n",
       "1       108916\n",
       "2_86     21594\n",
       "Name: pub_rec, dtype: int64"
      ]
     },
     "execution_count": 36,
     "metadata": {},
     "output_type": "execute_result"
    }
   ],
   "source": [
    "# combine the levels which has less observations\n",
    "df.loc[df['pub_rec']>1,'pub_rec']='2_86'\n",
    "df['pub_rec'].value_counts()"
   ]
  },
  {
   "cell_type": "code",
   "execution_count": 37,
   "metadata": {},
   "outputs": [
    {
     "data": {
      "text/html": [
       "<div>\n",
       "<style scoped>\n",
       "    .dataframe tbody tr th:only-of-type {\n",
       "        vertical-align: middle;\n",
       "    }\n",
       "\n",
       "    .dataframe tbody tr th {\n",
       "        vertical-align: top;\n",
       "    }\n",
       "\n",
       "    .dataframe thead th {\n",
       "        text-align: right;\n",
       "    }\n",
       "</style>\n",
       "<table border=\"1\" class=\"dataframe\">\n",
       "  <thead>\n",
       "    <tr style=\"text-align: right;\">\n",
       "      <th>default_ind</th>\n",
       "      <th>0</th>\n",
       "      <th>1</th>\n",
       "    </tr>\n",
       "    <tr>\n",
       "      <th>emp_length</th>\n",
       "      <th></th>\n",
       "      <th></th>\n",
       "    </tr>\n",
       "  </thead>\n",
       "  <tbody>\n",
       "    <tr>\n",
       "      <th>1 year</th>\n",
       "      <td>51781</td>\n",
       "      <td>3055</td>\n",
       "    </tr>\n",
       "    <tr>\n",
       "      <th>10+ years</th>\n",
       "      <td>268537</td>\n",
       "      <td>13498</td>\n",
       "    </tr>\n",
       "    <tr>\n",
       "      <th>2 years</th>\n",
       "      <td>71852</td>\n",
       "      <td>4116</td>\n",
       "    </tr>\n",
       "    <tr>\n",
       "      <th>3 years</th>\n",
       "      <td>63745</td>\n",
       "      <td>3632</td>\n",
       "    </tr>\n",
       "    <tr>\n",
       "      <th>4 years</th>\n",
       "      <td>47791</td>\n",
       "      <td>2841</td>\n",
       "    </tr>\n",
       "    <tr>\n",
       "      <th>5 years</th>\n",
       "      <td>50522</td>\n",
       "      <td>3278</td>\n",
       "    </tr>\n",
       "    <tr>\n",
       "      <th>6 years</th>\n",
       "      <td>38679</td>\n",
       "      <td>2755</td>\n",
       "    </tr>\n",
       "    <tr>\n",
       "      <th>7 years</th>\n",
       "      <td>40525</td>\n",
       "      <td>2672</td>\n",
       "    </tr>\n",
       "    <tr>\n",
       "      <th>8 years</th>\n",
       "      <td>40189</td>\n",
       "      <td>2227</td>\n",
       "    </tr>\n",
       "    <tr>\n",
       "      <th>9 years</th>\n",
       "      <td>31629</td>\n",
       "      <td>1826</td>\n",
       "    </tr>\n",
       "    <tr>\n",
       "      <th>&lt; 1 year</th>\n",
       "      <td>63632</td>\n",
       "      <td>3938</td>\n",
       "    </tr>\n",
       "  </tbody>\n",
       "</table>\n",
       "</div>"
      ],
      "text/plain": [
       "default_ind       0      1\n",
       "emp_length                \n",
       "1 year        51781   3055\n",
       "10+ years    268537  13498\n",
       "2 years       71852   4116\n",
       "3 years       63745   3632\n",
       "4 years       47791   2841\n",
       "5 years       50522   3278\n",
       "6 years       38679   2755\n",
       "7 years       40525   2672\n",
       "8 years       40189   2227\n",
       "9 years       31629   1826\n",
       "< 1 year      63632   3938"
      ]
     },
     "execution_count": 37,
     "metadata": {},
     "output_type": "execute_result"
    }
   ],
   "source": [
    "# emp_length\n",
    "pd.crosstab(index=df['emp_length'],columns=df['default_ind'])                                                        "
   ]
  },
  {
   "cell_type": "code",
   "execution_count": 38,
   "metadata": {},
   "outputs": [],
   "source": [
    "# map the values with numeric numbers                           \n",
    "map_dict={\"emp_length\":{'10+ years':10,'9 years':9,'8 years':8,'7 years':7,'6 years':6,'5 years':5,'4 years':4,'3 years':3,'2 years':2,'1 year':1,'< 1 year':0}}"
   ]
  },
  {
   "cell_type": "code",
   "execution_count": 39,
   "metadata": {},
   "outputs": [
    {
     "data": {
      "text/plain": [
       "0    10.0\n",
       "1     0.0\n",
       "2    10.0\n",
       "3    10.0\n",
       "4     1.0\n",
       "Name: emp_length, dtype: float64"
      ]
     },
     "execution_count": 39,
     "metadata": {},
     "output_type": "execute_result"
    }
   ],
   "source": [
    "df=df.replace(map_dict)\n",
    "df['emp_length'].head()"
   ]
  },
  {
   "cell_type": "code",
   "execution_count": 40,
   "metadata": {},
   "outputs": [
    {
     "data": {
      "text/html": [
       "<div>\n",
       "<style scoped>\n",
       "    .dataframe tbody tr th:only-of-type {\n",
       "        vertical-align: middle;\n",
       "    }\n",
       "\n",
       "    .dataframe tbody tr th {\n",
       "        vertical-align: top;\n",
       "    }\n",
       "\n",
       "    .dataframe thead th {\n",
       "        text-align: right;\n",
       "    }\n",
       "</style>\n",
       "<table border=\"1\" class=\"dataframe\">\n",
       "  <thead>\n",
       "    <tr style=\"text-align: right;\">\n",
       "      <th>default_ind</th>\n",
       "      <th>0</th>\n",
       "      <th>1</th>\n",
       "    </tr>\n",
       "    <tr>\n",
       "      <th>addr_state</th>\n",
       "      <th></th>\n",
       "      <th></th>\n",
       "    </tr>\n",
       "  </thead>\n",
       "  <tbody>\n",
       "    <tr>\n",
       "      <th>AK</th>\n",
       "      <td>2036</td>\n",
       "      <td>97</td>\n",
       "    </tr>\n",
       "    <tr>\n",
       "      <th>AL</th>\n",
       "      <td>10061</td>\n",
       "      <td>671</td>\n",
       "    </tr>\n",
       "    <tr>\n",
       "      <th>AR</th>\n",
       "      <td>6053</td>\n",
       "      <td>344</td>\n",
       "    </tr>\n",
       "    <tr>\n",
       "      <th>AZ</th>\n",
       "      <td>18602</td>\n",
       "      <td>1086</td>\n",
       "    </tr>\n",
       "    <tr>\n",
       "      <th>CA</th>\n",
       "      <td>117598</td>\n",
       "      <td>7538</td>\n",
       "    </tr>\n",
       "    <tr>\n",
       "      <th>CO</th>\n",
       "      <td>17399</td>\n",
       "      <td>806</td>\n",
       "    </tr>\n",
       "    <tr>\n",
       "      <th>CT</th>\n",
       "      <td>12419</td>\n",
       "      <td>622</td>\n",
       "    </tr>\n",
       "    <tr>\n",
       "      <th>DC</th>\n",
       "      <td>2289</td>\n",
       "      <td>89</td>\n",
       "    </tr>\n",
       "    <tr>\n",
       "      <th>DE</th>\n",
       "      <td>2276</td>\n",
       "      <td>126</td>\n",
       "    </tr>\n",
       "    <tr>\n",
       "      <th>FL</th>\n",
       "      <td>55016</td>\n",
       "      <td>3618</td>\n",
       "    </tr>\n",
       "    <tr>\n",
       "      <th>GA</th>\n",
       "      <td>26641</td>\n",
       "      <td>1395</td>\n",
       "    </tr>\n",
       "    <tr>\n",
       "      <th>HI</th>\n",
       "      <td>4095</td>\n",
       "      <td>284</td>\n",
       "    </tr>\n",
       "    <tr>\n",
       "      <th>IA</th>\n",
       "      <td>6</td>\n",
       "      <td>1</td>\n",
       "    </tr>\n",
       "    <tr>\n",
       "      <th>ID</th>\n",
       "      <td>8</td>\n",
       "      <td>1</td>\n",
       "    </tr>\n",
       "    <tr>\n",
       "      <th>IL</th>\n",
       "      <td>32804</td>\n",
       "      <td>1570</td>\n",
       "    </tr>\n",
       "    <tr>\n",
       "      <th>IN</th>\n",
       "      <td>12703</td>\n",
       "      <td>645</td>\n",
       "    </tr>\n",
       "    <tr>\n",
       "      <th>KS</th>\n",
       "      <td>7328</td>\n",
       "      <td>360</td>\n",
       "    </tr>\n",
       "    <tr>\n",
       "      <th>KY</th>\n",
       "      <td>7848</td>\n",
       "      <td>451</td>\n",
       "    </tr>\n",
       "    <tr>\n",
       "      <th>LA</th>\n",
       "      <td>9600</td>\n",
       "      <td>584</td>\n",
       "    </tr>\n",
       "    <tr>\n",
       "      <th>MA</th>\n",
       "      <td>18784</td>\n",
       "      <td>1044</td>\n",
       "    </tr>\n",
       "    <tr>\n",
       "      <th>MD</th>\n",
       "      <td>19082</td>\n",
       "      <td>1122</td>\n",
       "    </tr>\n",
       "    <tr>\n",
       "      <th>ME</th>\n",
       "      <td>491</td>\n",
       "      <td>0</td>\n",
       "    </tr>\n",
       "    <tr>\n",
       "      <th>MI</th>\n",
       "      <td>20991</td>\n",
       "      <td>1182</td>\n",
       "    </tr>\n",
       "    <tr>\n",
       "      <th>MN</th>\n",
       "      <td>14597</td>\n",
       "      <td>823</td>\n",
       "    </tr>\n",
       "    <tr>\n",
       "      <th>MO</th>\n",
       "      <td>12945</td>\n",
       "      <td>795</td>\n",
       "    </tr>\n",
       "    <tr>\n",
       "      <th>MS</th>\n",
       "      <td>3562</td>\n",
       "      <td>90</td>\n",
       "    </tr>\n",
       "    <tr>\n",
       "      <th>MT</th>\n",
       "      <td>2363</td>\n",
       "      <td>101</td>\n",
       "    </tr>\n",
       "    <tr>\n",
       "      <th>NC</th>\n",
       "      <td>22443</td>\n",
       "      <td>1339</td>\n",
       "    </tr>\n",
       "    <tr>\n",
       "      <th>ND</th>\n",
       "      <td>452</td>\n",
       "      <td>0</td>\n",
       "    </tr>\n",
       "    <tr>\n",
       "      <th>NE</th>\n",
       "      <td>1120</td>\n",
       "      <td>4</td>\n",
       "    </tr>\n",
       "    <tr>\n",
       "      <th>NH</th>\n",
       "      <td>3995</td>\n",
       "      <td>160</td>\n",
       "    </tr>\n",
       "    <tr>\n",
       "      <th>NJ</th>\n",
       "      <td>30165</td>\n",
       "      <td>1886</td>\n",
       "    </tr>\n",
       "    <tr>\n",
       "      <th>NM</th>\n",
       "      <td>4479</td>\n",
       "      <td>277</td>\n",
       "    </tr>\n",
       "    <tr>\n",
       "      <th>NV</th>\n",
       "      <td>11139</td>\n",
       "      <td>830</td>\n",
       "    </tr>\n",
       "    <tr>\n",
       "      <th>NY</th>\n",
       "      <td>66870</td>\n",
       "      <td>4228</td>\n",
       "    </tr>\n",
       "    <tr>\n",
       "      <th>OH</th>\n",
       "      <td>27135</td>\n",
       "      <td>1512</td>\n",
       "    </tr>\n",
       "    <tr>\n",
       "      <th>OK</th>\n",
       "      <td>7330</td>\n",
       "      <td>429</td>\n",
       "    </tr>\n",
       "    <tr>\n",
       "      <th>OR</th>\n",
       "      <td>10007</td>\n",
       "      <td>551</td>\n",
       "    </tr>\n",
       "    <tr>\n",
       "      <th>PA</th>\n",
       "      <td>28653</td>\n",
       "      <td>1595</td>\n",
       "    </tr>\n",
       "    <tr>\n",
       "      <th>RI</th>\n",
       "      <td>3556</td>\n",
       "      <td>196</td>\n",
       "    </tr>\n",
       "    <tr>\n",
       "      <th>SC</th>\n",
       "      <td>9837</td>\n",
       "      <td>464</td>\n",
       "    </tr>\n",
       "    <tr>\n",
       "      <th>SD</th>\n",
       "      <td>1653</td>\n",
       "      <td>91</td>\n",
       "    </tr>\n",
       "    <tr>\n",
       "      <th>TN</th>\n",
       "      <td>11807</td>\n",
       "      <td>585</td>\n",
       "    </tr>\n",
       "    <tr>\n",
       "      <th>TX</th>\n",
       "      <td>65548</td>\n",
       "      <td>3142</td>\n",
       "    </tr>\n",
       "    <tr>\n",
       "      <th>UT</th>\n",
       "      <td>5697</td>\n",
       "      <td>356</td>\n",
       "    </tr>\n",
       "    <tr>\n",
       "      <th>VA</th>\n",
       "      <td>23758</td>\n",
       "      <td>1466</td>\n",
       "    </tr>\n",
       "    <tr>\n",
       "      <th>VT</th>\n",
       "      <td>1680</td>\n",
       "      <td>71</td>\n",
       "    </tr>\n",
       "    <tr>\n",
       "      <th>WA</th>\n",
       "      <td>17803</td>\n",
       "      <td>1008</td>\n",
       "    </tr>\n",
       "    <tr>\n",
       "      <th>WI</th>\n",
       "      <td>10648</td>\n",
       "      <td>550</td>\n",
       "    </tr>\n",
       "    <tr>\n",
       "      <th>WV</th>\n",
       "      <td>4081</td>\n",
       "      <td>165</td>\n",
       "    </tr>\n",
       "    <tr>\n",
       "      <th>WY</th>\n",
       "      <td>1891</td>\n",
       "      <td>83</td>\n",
       "    </tr>\n",
       "  </tbody>\n",
       "</table>\n",
       "</div>"
      ],
      "text/plain": [
       "default_ind       0     1\n",
       "addr_state               \n",
       "AK             2036    97\n",
       "AL            10061   671\n",
       "AR             6053   344\n",
       "AZ            18602  1086\n",
       "CA           117598  7538\n",
       "CO            17399   806\n",
       "CT            12419   622\n",
       "DC             2289    89\n",
       "DE             2276   126\n",
       "FL            55016  3618\n",
       "GA            26641  1395\n",
       "HI             4095   284\n",
       "IA                6     1\n",
       "ID                8     1\n",
       "IL            32804  1570\n",
       "IN            12703   645\n",
       "KS             7328   360\n",
       "KY             7848   451\n",
       "LA             9600   584\n",
       "MA            18784  1044\n",
       "MD            19082  1122\n",
       "ME              491     0\n",
       "MI            20991  1182\n",
       "MN            14597   823\n",
       "MO            12945   795\n",
       "MS             3562    90\n",
       "MT             2363   101\n",
       "NC            22443  1339\n",
       "ND              452     0\n",
       "NE             1120     4\n",
       "NH             3995   160\n",
       "NJ            30165  1886\n",
       "NM             4479   277\n",
       "NV            11139   830\n",
       "NY            66870  4228\n",
       "OH            27135  1512\n",
       "OK             7330   429\n",
       "OR            10007   551\n",
       "PA            28653  1595\n",
       "RI             3556   196\n",
       "SC             9837   464\n",
       "SD             1653    91\n",
       "TN            11807   585\n",
       "TX            65548  3142\n",
       "UT             5697   356\n",
       "VA            23758  1466\n",
       "VT             1680    71\n",
       "WA            17803  1008\n",
       "WI            10648   550\n",
       "WV             4081   165\n",
       "WY             1891    83"
      ]
     },
     "execution_count": 40,
     "metadata": {},
     "output_type": "execute_result"
    }
   ],
   "source": [
    "pd.crosstab(index=df['addr_state'],columns=df['default_ind'])                                                        "
   ]
  },
  {
   "cell_type": "markdown",
   "metadata": {},
   "source": [
    "                            3. Outlier detection and Correction"
   ]
  },
  {
   "cell_type": "code",
   "execution_count": 41,
   "metadata": {},
   "outputs": [
    {
     "data": {
      "text/html": [
       "<div>\n",
       "<style scoped>\n",
       "    .dataframe tbody tr th:only-of-type {\n",
       "        vertical-align: middle;\n",
       "    }\n",
       "\n",
       "    .dataframe tbody tr th {\n",
       "        vertical-align: top;\n",
       "    }\n",
       "\n",
       "    .dataframe thead th {\n",
       "        text-align: right;\n",
       "    }\n",
       "</style>\n",
       "<table border=\"1\" class=\"dataframe\">\n",
       "  <thead>\n",
       "    <tr style=\"text-align: right;\">\n",
       "      <th></th>\n",
       "      <th>loan_amnt</th>\n",
       "      <th>term</th>\n",
       "      <th>int_rate</th>\n",
       "      <th>installment</th>\n",
       "      <th>grade</th>\n",
       "      <th>emp_length</th>\n",
       "      <th>home_ownership</th>\n",
       "      <th>annual_inc</th>\n",
       "      <th>verification_status</th>\n",
       "      <th>issue_d</th>\n",
       "      <th>...</th>\n",
       "      <th>open_acc</th>\n",
       "      <th>pub_rec</th>\n",
       "      <th>revol_bal</th>\n",
       "      <th>revol_util</th>\n",
       "      <th>total_acc</th>\n",
       "      <th>initial_list_status</th>\n",
       "      <th>tot_coll_amt</th>\n",
       "      <th>tot_cur_bal</th>\n",
       "      <th>total_rev_hi_lim</th>\n",
       "      <th>default_ind</th>\n",
       "    </tr>\n",
       "  </thead>\n",
       "  <tbody>\n",
       "    <tr>\n",
       "      <th>0</th>\n",
       "      <td>5000</td>\n",
       "      <td>36 months</td>\n",
       "      <td>10.65</td>\n",
       "      <td>162.87</td>\n",
       "      <td>B</td>\n",
       "      <td>10.0</td>\n",
       "      <td>RENT</td>\n",
       "      <td>24000.0</td>\n",
       "      <td>Verified</td>\n",
       "      <td>11-Dec</td>\n",
       "      <td>...</td>\n",
       "      <td>3</td>\n",
       "      <td>0</td>\n",
       "      <td>13648</td>\n",
       "      <td>83.7</td>\n",
       "      <td>9</td>\n",
       "      <td>f</td>\n",
       "      <td>NaN</td>\n",
       "      <td>NaN</td>\n",
       "      <td>NaN</td>\n",
       "      <td>0</td>\n",
       "    </tr>\n",
       "    <tr>\n",
       "      <th>1</th>\n",
       "      <td>2500</td>\n",
       "      <td>60 months</td>\n",
       "      <td>15.27</td>\n",
       "      <td>59.83</td>\n",
       "      <td>C</td>\n",
       "      <td>0.0</td>\n",
       "      <td>RENT</td>\n",
       "      <td>30000.0</td>\n",
       "      <td>Source Verified</td>\n",
       "      <td>11-Dec</td>\n",
       "      <td>...</td>\n",
       "      <td>3</td>\n",
       "      <td>0</td>\n",
       "      <td>1687</td>\n",
       "      <td>9.4</td>\n",
       "      <td>4</td>\n",
       "      <td>f</td>\n",
       "      <td>NaN</td>\n",
       "      <td>NaN</td>\n",
       "      <td>NaN</td>\n",
       "      <td>1</td>\n",
       "    </tr>\n",
       "    <tr>\n",
       "      <th>2</th>\n",
       "      <td>2400</td>\n",
       "      <td>36 months</td>\n",
       "      <td>15.96</td>\n",
       "      <td>84.33</td>\n",
       "      <td>C</td>\n",
       "      <td>10.0</td>\n",
       "      <td>RENT</td>\n",
       "      <td>12252.0</td>\n",
       "      <td>Not Verified</td>\n",
       "      <td>11-Dec</td>\n",
       "      <td>...</td>\n",
       "      <td>2</td>\n",
       "      <td>0</td>\n",
       "      <td>2956</td>\n",
       "      <td>98.5</td>\n",
       "      <td>10</td>\n",
       "      <td>f</td>\n",
       "      <td>NaN</td>\n",
       "      <td>NaN</td>\n",
       "      <td>NaN</td>\n",
       "      <td>0</td>\n",
       "    </tr>\n",
       "    <tr>\n",
       "      <th>3</th>\n",
       "      <td>10000</td>\n",
       "      <td>36 months</td>\n",
       "      <td>13.49</td>\n",
       "      <td>339.31</td>\n",
       "      <td>C</td>\n",
       "      <td>10.0</td>\n",
       "      <td>RENT</td>\n",
       "      <td>49200.0</td>\n",
       "      <td>Source Verified</td>\n",
       "      <td>11-Dec</td>\n",
       "      <td>...</td>\n",
       "      <td>10</td>\n",
       "      <td>0</td>\n",
       "      <td>5598</td>\n",
       "      <td>21.0</td>\n",
       "      <td>37</td>\n",
       "      <td>f</td>\n",
       "      <td>NaN</td>\n",
       "      <td>NaN</td>\n",
       "      <td>NaN</td>\n",
       "      <td>0</td>\n",
       "    </tr>\n",
       "    <tr>\n",
       "      <th>4</th>\n",
       "      <td>3000</td>\n",
       "      <td>60 months</td>\n",
       "      <td>12.69</td>\n",
       "      <td>67.79</td>\n",
       "      <td>B</td>\n",
       "      <td>1.0</td>\n",
       "      <td>RENT</td>\n",
       "      <td>80000.0</td>\n",
       "      <td>Source Verified</td>\n",
       "      <td>11-Dec</td>\n",
       "      <td>...</td>\n",
       "      <td>15</td>\n",
       "      <td>0</td>\n",
       "      <td>27783</td>\n",
       "      <td>53.9</td>\n",
       "      <td>38</td>\n",
       "      <td>f</td>\n",
       "      <td>NaN</td>\n",
       "      <td>NaN</td>\n",
       "      <td>NaN</td>\n",
       "      <td>0</td>\n",
       "    </tr>\n",
       "  </tbody>\n",
       "</table>\n",
       "<p>5 rows × 25 columns</p>\n",
       "</div>"
      ],
      "text/plain": [
       "   loan_amnt        term  int_rate  installment grade  emp_length  \\\n",
       "0       5000   36 months     10.65       162.87     B        10.0   \n",
       "1       2500   60 months     15.27        59.83     C         0.0   \n",
       "2       2400   36 months     15.96        84.33     C        10.0   \n",
       "3      10000   36 months     13.49       339.31     C        10.0   \n",
       "4       3000   60 months     12.69        67.79     B         1.0   \n",
       "\n",
       "  home_ownership  annual_inc verification_status issue_d  ... open_acc  \\\n",
       "0           RENT     24000.0            Verified  11-Dec  ...        3   \n",
       "1           RENT     30000.0     Source Verified  11-Dec  ...        3   \n",
       "2           RENT     12252.0        Not Verified  11-Dec  ...        2   \n",
       "3           RENT     49200.0     Source Verified  11-Dec  ...       10   \n",
       "4           RENT     80000.0     Source Verified  11-Dec  ...       15   \n",
       "\n",
       "  pub_rec  revol_bal revol_util  total_acc  initial_list_status tot_coll_amt  \\\n",
       "0       0      13648       83.7          9                    f          NaN   \n",
       "1       0       1687        9.4          4                    f          NaN   \n",
       "2       0       2956       98.5         10                    f          NaN   \n",
       "3       0       5598       21.0         37                    f          NaN   \n",
       "4       0      27783       53.9         38                    f          NaN   \n",
       "\n",
       "   tot_cur_bal  total_rev_hi_lim  default_ind  \n",
       "0          NaN               NaN            0  \n",
       "1          NaN               NaN            1  \n",
       "2          NaN               NaN            0  \n",
       "3          NaN               NaN            0  \n",
       "4          NaN               NaN            0  \n",
       "\n",
       "[5 rows x 25 columns]"
      ]
     },
     "execution_count": 41,
     "metadata": {},
     "output_type": "execute_result"
    }
   ],
   "source": [
    "df.head()"
   ]
  },
  {
   "cell_type": "code",
   "execution_count": 42,
   "metadata": {},
   "outputs": [],
   "source": [
    "# Split the dataframe into x and y\n",
    "data_x=df.drop('default_ind',axis=1).copy()\n",
    "data_y=df['default_ind'].copy()"
   ]
  },
  {
   "cell_type": "code",
   "execution_count": 43,
   "metadata": {},
   "outputs": [],
   "source": [
    "# Import train_test_split function\n",
    "from sklearn.model_selection import train_test_split\n",
    "# Split dataset into training set and test set\n",
    "X_train_df, X_test_df, Y_train_df, Y_test_df = train_test_split(data_x, data_y, test_size=0.20, random_state=5) # 80% training and 20% test"
   ]
  },
  {
   "cell_type": "code",
   "execution_count": 44,
   "metadata": {},
   "outputs": [
    {
     "name": "stderr",
     "output_type": "stream",
     "text": [
      "C:\\Users\\chandrahas\\Anaconda3\\lib\\site-packages\\ipykernel_launcher.py:2: SettingWithCopyWarning: \n",
      "A value is trying to be set on a copy of a slice from a DataFrame.\n",
      "Try using .loc[row_indexer,col_indexer] = value instead\n",
      "\n",
      "See the caveats in the documentation: http://pandas.pydata.org/pandas-docs/stable/indexing.html#indexing-view-versus-copy\n",
      "  \n",
      "C:\\Users\\chandrahas\\Anaconda3\\lib\\site-packages\\ipykernel_launcher.py:3: SettingWithCopyWarning: \n",
      "A value is trying to be set on a copy of a slice from a DataFrame.\n",
      "Try using .loc[row_indexer,col_indexer] = value instead\n",
      "\n",
      "See the caveats in the documentation: http://pandas.pydata.org/pandas-docs/stable/indexing.html#indexing-view-versus-copy\n",
      "  This is separate from the ipykernel package so we can avoid doing imports until\n"
     ]
    }
   ],
   "source": [
    "# map train and test separately for future split\n",
    "X_train_df['source']='train'\n",
    "X_test_df['source']='test'"
   ]
  },
  {
   "cell_type": "code",
   "execution_count": 45,
   "metadata": {},
   "outputs": [],
   "source": [
    "full_X=pd.concat([X_train_df,X_test_df],axis=0)"
   ]
  },
  {
   "cell_type": "code",
   "execution_count": 46,
   "metadata": {},
   "outputs": [
    {
     "data": {
      "text/html": [
       "<div>\n",
       "<style scoped>\n",
       "    .dataframe tbody tr th:only-of-type {\n",
       "        vertical-align: middle;\n",
       "    }\n",
       "\n",
       "    .dataframe tbody tr th {\n",
       "        vertical-align: top;\n",
       "    }\n",
       "\n",
       "    .dataframe thead th {\n",
       "        text-align: right;\n",
       "    }\n",
       "</style>\n",
       "<table border=\"1\" class=\"dataframe\">\n",
       "  <thead>\n",
       "    <tr style=\"text-align: right;\">\n",
       "      <th></th>\n",
       "      <th>loan_amnt</th>\n",
       "      <th>term</th>\n",
       "      <th>int_rate</th>\n",
       "      <th>installment</th>\n",
       "      <th>grade</th>\n",
       "      <th>emp_length</th>\n",
       "      <th>home_ownership</th>\n",
       "      <th>annual_inc</th>\n",
       "      <th>verification_status</th>\n",
       "      <th>issue_d</th>\n",
       "      <th>...</th>\n",
       "      <th>open_acc</th>\n",
       "      <th>pub_rec</th>\n",
       "      <th>revol_bal</th>\n",
       "      <th>revol_util</th>\n",
       "      <th>total_acc</th>\n",
       "      <th>initial_list_status</th>\n",
       "      <th>tot_coll_amt</th>\n",
       "      <th>tot_cur_bal</th>\n",
       "      <th>total_rev_hi_lim</th>\n",
       "      <th>source</th>\n",
       "    </tr>\n",
       "  </thead>\n",
       "  <tbody>\n",
       "    <tr>\n",
       "      <th>425814</th>\n",
       "      <td>10200</td>\n",
       "      <td>60 months</td>\n",
       "      <td>16.59</td>\n",
       "      <td>251.26</td>\n",
       "      <td>D</td>\n",
       "      <td>2.0</td>\n",
       "      <td>RENT</td>\n",
       "      <td>50000.0</td>\n",
       "      <td>Source Verified</td>\n",
       "      <td>14-Mar</td>\n",
       "      <td>...</td>\n",
       "      <td>16</td>\n",
       "      <td>1</td>\n",
       "      <td>5804</td>\n",
       "      <td>52.3</td>\n",
       "      <td>32</td>\n",
       "      <td>f</td>\n",
       "      <td>0.0</td>\n",
       "      <td>65162.0</td>\n",
       "      <td>11100.0</td>\n",
       "      <td>train</td>\n",
       "    </tr>\n",
       "    <tr>\n",
       "      <th>276442</th>\n",
       "      <td>15000</td>\n",
       "      <td>36 months</td>\n",
       "      <td>7.12</td>\n",
       "      <td>463.98</td>\n",
       "      <td>A</td>\n",
       "      <td>9.0</td>\n",
       "      <td>OWN</td>\n",
       "      <td>95000.0</td>\n",
       "      <td>Not Verified</td>\n",
       "      <td>14-Oct</td>\n",
       "      <td>...</td>\n",
       "      <td>20</td>\n",
       "      <td>0</td>\n",
       "      <td>25230</td>\n",
       "      <td>38.7</td>\n",
       "      <td>33</td>\n",
       "      <td>w</td>\n",
       "      <td>0.0</td>\n",
       "      <td>108401.0</td>\n",
       "      <td>65200.0</td>\n",
       "      <td>train</td>\n",
       "    </tr>\n",
       "    <tr>\n",
       "      <th>271606</th>\n",
       "      <td>35000</td>\n",
       "      <td>60 months</td>\n",
       "      <td>16.29</td>\n",
       "      <td>856.54</td>\n",
       "      <td>D</td>\n",
       "      <td>10.0</td>\n",
       "      <td>MORTGAGE</td>\n",
       "      <td>106000.0</td>\n",
       "      <td>Source Verified</td>\n",
       "      <td>14-Oct</td>\n",
       "      <td>...</td>\n",
       "      <td>13</td>\n",
       "      <td>0</td>\n",
       "      <td>38358</td>\n",
       "      <td>79.9</td>\n",
       "      <td>28</td>\n",
       "      <td>w</td>\n",
       "      <td>0.0</td>\n",
       "      <td>182451.0</td>\n",
       "      <td>48000.0</td>\n",
       "      <td>train</td>\n",
       "    </tr>\n",
       "    <tr>\n",
       "      <th>747470</th>\n",
       "      <td>21350</td>\n",
       "      <td>60 months</td>\n",
       "      <td>25.83</td>\n",
       "      <td>637.09</td>\n",
       "      <td>G</td>\n",
       "      <td>2.0</td>\n",
       "      <td>RENT</td>\n",
       "      <td>47000.0</td>\n",
       "      <td>Source Verified</td>\n",
       "      <td>15-Apr</td>\n",
       "      <td>...</td>\n",
       "      <td>18</td>\n",
       "      <td>0</td>\n",
       "      <td>16763</td>\n",
       "      <td>53.2</td>\n",
       "      <td>27</td>\n",
       "      <td>f</td>\n",
       "      <td>0.0</td>\n",
       "      <td>32847.0</td>\n",
       "      <td>31500.0</td>\n",
       "      <td>train</td>\n",
       "    </tr>\n",
       "    <tr>\n",
       "      <th>563468</th>\n",
       "      <td>15200</td>\n",
       "      <td>36 months</td>\n",
       "      <td>20.99</td>\n",
       "      <td>572.59</td>\n",
       "      <td>E</td>\n",
       "      <td>0.0</td>\n",
       "      <td>RENT</td>\n",
       "      <td>34000.0</td>\n",
       "      <td>Not Verified</td>\n",
       "      <td>15-Oct</td>\n",
       "      <td>...</td>\n",
       "      <td>6</td>\n",
       "      <td>0</td>\n",
       "      <td>7511</td>\n",
       "      <td>30.4</td>\n",
       "      <td>8</td>\n",
       "      <td>w</td>\n",
       "      <td>0.0</td>\n",
       "      <td>33593.0</td>\n",
       "      <td>24700.0</td>\n",
       "      <td>train</td>\n",
       "    </tr>\n",
       "  </tbody>\n",
       "</table>\n",
       "<p>5 rows × 25 columns</p>\n",
       "</div>"
      ],
      "text/plain": [
       "        loan_amnt        term  int_rate  installment grade  emp_length  \\\n",
       "425814      10200   60 months     16.59       251.26     D         2.0   \n",
       "276442      15000   36 months      7.12       463.98     A         9.0   \n",
       "271606      35000   60 months     16.29       856.54     D        10.0   \n",
       "747470      21350   60 months     25.83       637.09     G         2.0   \n",
       "563468      15200   36 months     20.99       572.59     E         0.0   \n",
       "\n",
       "       home_ownership  annual_inc verification_status issue_d  ... open_acc  \\\n",
       "425814           RENT     50000.0     Source Verified  14-Mar  ...       16   \n",
       "276442            OWN     95000.0        Not Verified  14-Oct  ...       20   \n",
       "271606       MORTGAGE    106000.0     Source Verified  14-Oct  ...       13   \n",
       "747470           RENT     47000.0     Source Verified  15-Apr  ...       18   \n",
       "563468           RENT     34000.0        Not Verified  15-Oct  ...        6   \n",
       "\n",
       "       pub_rec  revol_bal revol_util  total_acc  initial_list_status  \\\n",
       "425814       1       5804       52.3         32                    f   \n",
       "276442       0      25230       38.7         33                    w   \n",
       "271606       0      38358       79.9         28                    w   \n",
       "747470       0      16763       53.2         27                    f   \n",
       "563468       0       7511       30.4          8                    w   \n",
       "\n",
       "       tot_coll_amt  tot_cur_bal  total_rev_hi_lim  source  \n",
       "425814          0.0      65162.0           11100.0   train  \n",
       "276442          0.0     108401.0           65200.0   train  \n",
       "271606          0.0     182451.0           48000.0   train  \n",
       "747470          0.0      32847.0           31500.0   train  \n",
       "563468          0.0      33593.0           24700.0   train  \n",
       "\n",
       "[5 rows x 25 columns]"
      ]
     },
     "execution_count": 46,
     "metadata": {},
     "output_type": "execute_result"
    }
   ],
   "source": [
    "full_X.head()"
   ]
  },
  {
   "cell_type": "code",
   "execution_count": 47,
   "metadata": {},
   "outputs": [],
   "source": [
    "# subset for outlier correction and  missing value imputation\n",
    "Sub_train=full_X.loc[full_X['source']=='train',:]"
   ]
  },
  {
   "cell_type": "markdown",
   "metadata": {},
   "source": [
    "                            Check the Outlier's using train set"
   ]
  },
  {
   "cell_type": "code",
   "execution_count": 48,
   "metadata": {},
   "outputs": [
    {
     "data": {
      "text/plain": [
       "array([28975., 30000., 32000., 35000., 35000., 35000., 35000., 35000.])"
      ]
     },
     "execution_count": 48,
     "metadata": {},
     "output_type": "execute_result"
    }
   ],
   "source": [
    "np.percentile(Sub_train.loc[:,'loan_amnt'], [92,93,95,96,97,98,99,100]) "
   ]
  },
  {
   "cell_type": "code",
   "execution_count": 49,
   "metadata": {},
   "outputs": [
    {
     "data": {
      "text/plain": [
       "array([1000., 1000., 1075., 1200., 1400., 1500., 1500., 1600.])"
      ]
     },
     "execution_count": 49,
     "metadata": {},
     "output_type": "execute_result"
    }
   ],
   "source": [
    "np.percentile(Sub_train.loc[:,'loan_amnt'], [0.1,0.2,0.3,0.4,0.5,0.6,0.7,0.8]) "
   ]
  },
  {
   "cell_type": "code",
   "execution_count": 50,
   "metadata": {},
   "outputs": [
    {
     "data": {
      "text/plain": [
       "array([19.52, 19.99, 20.99, 21.67, 22.45, 23.43, 24.89, 28.99])"
      ]
     },
     "execution_count": 50,
     "metadata": {},
     "output_type": "execute_result"
    }
   ],
   "source": [
    "np.percentile(Sub_train.loc[:,'int_rate'], [92,93,95,96,97,98,99,100]) "
   ]
  },
  {
   "cell_type": "code",
   "execution_count": 51,
   "metadata": {},
   "outputs": [
    {
     "data": {
      "text/plain": [
       "array([5.32, 5.32, 5.32, 5.32, 5.32, 5.32, 5.32, 5.32])"
      ]
     },
     "execution_count": 51,
     "metadata": {},
     "output_type": "execute_result"
    }
   ],
   "source": [
    "np.percentile(Sub_train.loc[:,'int_rate'], [0.1,0.2,0.3,0.4,0.5,0.6,0.7,0.8]) "
   ]
  },
  {
   "cell_type": "code",
   "execution_count": 52,
   "metadata": {},
   "outputs": [
    {
     "data": {
      "text/plain": [
       "array([ 824.12 ,  851.87 ,  904.08 ,  949.4  , 1006.402, 1095.9  ,\n",
       "       1184.35 , 1445.46 ])"
      ]
     },
     "execution_count": 52,
     "metadata": {},
     "output_type": "execute_result"
    }
   ],
   "source": [
    "np.percentile(Sub_train.loc[:,'installment'], [92,93,95,96,97,98,99,100]) "
   ]
  },
  {
   "cell_type": "code",
   "execution_count": 53,
   "metadata": {},
   "outputs": [
    {
     "data": {
      "text/plain": [
       "array([33.36 , 34.67 , 37.33 , 40.82 , 45.603, 48.96 , 51.03 , 53.69 ])"
      ]
     },
     "execution_count": 53,
     "metadata": {},
     "output_type": "execute_result"
    }
   ],
   "source": [
    "np.percentile(Sub_train.loc[:,'installment'], [0.1,0.2,0.3,0.4,0.5,0.6,0.7,0.8]) "
   ]
  },
  {
   "cell_type": "code",
   "execution_count": 54,
   "metadata": {},
   "outputs": [
    {
     "data": {
      "text/plain": [
       "array([ 132000.,  140000.,  150000.,  163000.,  180000.,  200000.,\n",
       "        250000.,  305000.,  375000., 9500000.])"
      ]
     },
     "execution_count": 54,
     "metadata": {},
     "output_type": "execute_result"
    }
   ],
   "source": [
    "np.percentile(Sub_train.loc[:,'annual_inc'], [92,93,95,96,97,98,99,99.5,99.7,100]) "
   ]
  },
  {
   "cell_type": "code",
   "execution_count": 55,
   "metadata": {},
   "outputs": [
    {
     "data": {
      "text/plain": [
       "array([0.00082154])"
      ]
     },
     "execution_count": 55,
     "metadata": {},
     "output_type": "execute_result"
    }
   ],
   "source": [
    "np.percentile(Sub_train.loc[:,'annual_inc'], [0.0000000001]) "
   ]
  },
  {
   "cell_type": "code",
   "execution_count": 56,
   "metadata": {},
   "outputs": [
    {
     "data": {
      "text/plain": [
       "array([  39.12,   39.42,   39.72, 9999.  ])"
      ]
     },
     "execution_count": 56,
     "metadata": {},
     "output_type": "execute_result"
    }
   ],
   "source": [
    "np.percentile(Sub_train.loc[:,'dti'], [99.7,99.8,99.9,100])"
   ]
  },
  {
   "cell_type": "code",
   "execution_count": 57,
   "metadata": {},
   "outputs": [
    {
     "data": {
      "text/plain": [
       "array([0.29, 0.55, 0.79, 1.  , 1.2 , 1.38, 1.55, 1.7 ])"
      ]
     },
     "execution_count": 57,
     "metadata": {},
     "output_type": "execute_result"
    }
   ],
   "source": [
    "np.percentile(Sub_train.loc[:,'dti'], [0.1,0.2,0.3,0.4,0.5,0.6,0.7,0.8]) "
   ]
  },
  {
   "cell_type": "code",
   "execution_count": 58,
   "metadata": {},
   "outputs": [
    {
     "data": {
      "text/plain": [
       "array([25., 28., 31., 34., 39., 79.])"
      ]
     },
     "execution_count": 58,
     "metadata": {},
     "output_type": "execute_result"
    }
   ],
   "source": [
    "np.percentile(Sub_train.loc[:,'open_acc'], [98,99,99.5,99.7,99.9,100])"
   ]
  },
  {
   "cell_type": "code",
   "execution_count": 59,
   "metadata": {},
   "outputs": [
    {
     "data": {
      "text/plain": [
       "array([2., 2., 2., 3., 3., 3., 3., 3.])"
      ]
     },
     "execution_count": 59,
     "metadata": {},
     "output_type": "execute_result"
    }
   ],
   "source": [
    "np.percentile(Sub_train.loc[:,'open_acc'], [0.1,0.2,0.3,0.4,0.5,0.6,0.7,0.8])"
   ]
  },
  {
   "cell_type": "code",
   "execution_count": 60,
   "metadata": {},
   "outputs": [
    {
     "data": {
      "text/plain": [
       "array([51., 55., 60., 63., 68., 71., 78.])"
      ]
     },
     "execution_count": 60,
     "metadata": {},
     "output_type": "execute_result"
    }
   ],
   "source": [
    "np.percentile(Sub_train.loc[:,'total_acc'], [97,98,99,99.5,99.7,99.8,99.9]) "
   ]
  },
  {
   "cell_type": "code",
   "execution_count": 61,
   "metadata": {},
   "outputs": [
    {
     "data": {
      "text/plain": [
       "array([4., 4., 4., 5., 5., 5., 5., 5.])"
      ]
     },
     "execution_count": 61,
     "metadata": {},
     "output_type": "execute_result"
    }
   ],
   "source": [
    "np.percentile(Sub_train.loc[:,'total_acc'], [0.1,0.2,0.3,0.4,0.5,0.6,0.7,0.8]) "
   ]
  },
  {
   "cell_type": "code",
   "execution_count": 62,
   "metadata": {},
   "outputs": [
    {
     "data": {
      "text/plain": [
       "array([ 92.4,  93.8,  95.1,  98.4,  98.7,  99.7, 892.3])"
      ]
     },
     "execution_count": 62,
     "metadata": {},
     "output_type": "execute_result"
    }
   ],
   "source": [
    "np.nanpercentile(Sub_train.loc[:,'revol_util'], [95,96,97,99,99.1,99.5,100]) "
   ]
  },
  {
   "cell_type": "code",
   "execution_count": 63,
   "metadata": {},
   "outputs": [
    {
     "data": {
      "text/plain": [
       "array([0. , 0. , 0. , 0.1, 0.3])"
      ]
     },
     "execution_count": 63,
     "metadata": {},
     "output_type": "execute_result"
    }
   ],
   "source": [
    "np.nanpercentile(Sub_train.loc[:,'revol_util'], [0.1,0.2,0.3,0.4,0.5])"
   ]
  },
  {
   "cell_type": "code",
   "execution_count": 64,
   "metadata": {},
   "outputs": [
    {
     "data": {
      "text/plain": [
       "array([  43889.  ,   47555.2 ,   53184.  ,   64828.8 ,   74917.1 ,\n",
       "         92347.2 ,   97481.1 ,  118803.12,  143435.8 , 2904836.  ])"
      ]
     },
     "execution_count": 64,
     "metadata": {},
     "output_type": "execute_result"
    }
   ],
   "source": [
    "np.nanpercentile(Sub_train.loc[:,'revol_bal'], [95,96,97,98,98.5,99,99.1,99.4,99.6,100]) "
   ]
  },
  {
   "cell_type": "code",
   "execution_count": 65,
   "metadata": {},
   "outputs": [
    {
     "data": {
      "text/plain": [
       "array([0., 0., 0., 7.])"
      ]
     },
     "execution_count": 65,
     "metadata": {},
     "output_type": "execute_result"
    }
   ],
   "source": [
    "np.nanpercentile(Sub_train.loc[:,'revol_bal'], [0.1,0.2,0.3,0.4])"
   ]
  },
  {
   "cell_type": "code",
   "execution_count": 66,
   "metadata": {},
   "outputs": [
    {
     "data": {
      "text/plain": [
       "array([ 425128.   ,  453903.8  ,  492679.74 ,  551700.68 ,  595936.73 ,\n",
       "        661612.68 ,  679282.922,  752117.156,  834210.128, 8000078.   ])"
      ]
     },
     "execution_count": 66,
     "metadata": {},
     "output_type": "execute_result"
    }
   ],
   "source": [
    "np.nanpercentile(Sub_train.loc[:,'tot_cur_bal'], [95,96,97,98,98.5,99,99.1,99.4,99.6,100]) "
   ]
  },
  {
   "cell_type": "code",
   "execution_count": 67,
   "metadata": {},
   "outputs": [
    {
     "data": {
      "text/plain": [
       "array([ 640.   , 1228.012, 1724.   , 2125.   ])"
      ]
     },
     "execution_count": 67,
     "metadata": {},
     "output_type": "execute_result"
    }
   ],
   "source": [
    "np.nanpercentile(Sub_train.loc[:,'tot_cur_bal'], [0.1,0.2,0.3,0.4])"
   ]
  },
  {
   "cell_type": "code",
   "execution_count": 68,
   "metadata": {},
   "outputs": [
    {
     "data": {
      "text/plain": [
       "array([  83100.   ,   90700.   ,  101000.   ,  117100.   ,  130300.   ,\n",
       "        151600.   ,  157545.676,  181600.   ,  210297.72 , 9999999.   ])"
      ]
     },
     "execution_count": 68,
     "metadata": {},
     "output_type": "execute_result"
    }
   ],
   "source": [
    "np.nanpercentile(Sub_train.loc[:,'total_rev_hi_lim'], [95,96,97,98,98.5,99,99.1,99.4,99.6,100])"
   ]
  },
  {
   "cell_type": "code",
   "execution_count": 69,
   "metadata": {},
   "outputs": [
    {
     "data": {
      "text/plain": [
       "array([ 800., 1400., 1700., 2000.])"
      ]
     },
     "execution_count": 69,
     "metadata": {},
     "output_type": "execute_result"
    }
   ],
   "source": [
    "np.nanpercentile(Sub_train.loc[:,'total_rev_hi_lim'], [0.1,0.2,0.3,0.4])"
   ]
  },
  {
   "cell_type": "markdown",
   "metadata": {},
   "source": [
    "                        Outlier Correction for the entire data"
   ]
  },
  {
   "cell_type": "code",
   "execution_count": 70,
   "metadata": {},
   "outputs": [],
   "source": [
    "full_X.loc[full_X['annual_inc']>375000,'annual_inc']=375000 \n",
    "\n",
    "full_X.loc[full_X['open_acc']==0,'open_acc']=0.1\n",
    "full_X.loc[full_X['total_acc']==0,'total_acc']=0.1 \n",
    "\n",
    "full_X.loc[full_X['annual_inc']==0,'annual_inc']=0.1 \n",
    "\n",
    "full_X.loc[full_X['dti']>39.72,'dti']=39.72 \n",
    "\n",
    "full_X.loc[full_X['open_acc']>39,'open_acc']=39 \n",
    "\n",
    "full_X.loc[full_X['total_acc']>68,'total_acc']=68 \n",
    "\n",
    "full_X.loc[full_X['revol_util']>99.7,'revol_util']=99.7 \n",
    "\n",
    "full_X.loc[full_X['revol_bal']>97481.1,'revol_bal']=97481.1\n",
    "\n",
    "full_X.loc[full_X['tot_cur_bal']>752117.156,'revol_bal']=752117.156\n",
    "\n",
    "full_X.loc[full_X['total_rev_hi_lim']>210297.72,'revol_bal']=210297.72"
   ]
  },
  {
   "cell_type": "markdown",
   "metadata": {},
   "source": [
    "                            Impute Missing Values"
   ]
  },
  {
   "cell_type": "code",
   "execution_count": 71,
   "metadata": {},
   "outputs": [
    {
     "data": {
      "text/html": [
       "<div>\n",
       "<style scoped>\n",
       "    .dataframe tbody tr th:only-of-type {\n",
       "        vertical-align: middle;\n",
       "    }\n",
       "\n",
       "    .dataframe tbody tr th {\n",
       "        vertical-align: top;\n",
       "    }\n",
       "\n",
       "    .dataframe thead th {\n",
       "        text-align: right;\n",
       "    }\n",
       "</style>\n",
       "<table border=\"1\" class=\"dataframe\">\n",
       "  <thead>\n",
       "    <tr style=\"text-align: right;\">\n",
       "      <th></th>\n",
       "      <th>loan_amnt</th>\n",
       "      <th>int_rate</th>\n",
       "      <th>installment</th>\n",
       "      <th>emp_length</th>\n",
       "      <th>annual_inc</th>\n",
       "      <th>dti</th>\n",
       "      <th>inq_last_6mths</th>\n",
       "      <th>open_acc</th>\n",
       "      <th>revol_bal</th>\n",
       "      <th>revol_util</th>\n",
       "      <th>total_acc</th>\n",
       "      <th>tot_coll_amt</th>\n",
       "      <th>tot_cur_bal</th>\n",
       "      <th>total_rev_hi_lim</th>\n",
       "    </tr>\n",
       "  </thead>\n",
       "  <tbody>\n",
       "    <tr>\n",
       "      <th>count</th>\n",
       "      <td>684621.000000</td>\n",
       "      <td>684621.000000</td>\n",
       "      <td>684621.000000</td>\n",
       "      <td>650174.000000</td>\n",
       "      <td>6.846210e+05</td>\n",
       "      <td>684621.000000</td>\n",
       "      <td>684621.000000</td>\n",
       "      <td>684621.000000</td>\n",
       "      <td>6.846210e+05</td>\n",
       "      <td>684267.000000</td>\n",
       "      <td>684621.000000</td>\n",
       "      <td>6.310070e+05</td>\n",
       "      <td>6.310070e+05</td>\n",
       "      <td>6.310070e+05</td>\n",
       "    </tr>\n",
       "    <tr>\n",
       "      <th>mean</th>\n",
       "      <td>14752.932864</td>\n",
       "      <td>13.194997</td>\n",
       "      <td>436.432773</td>\n",
       "      <td>6.018004</td>\n",
       "      <td>7.508404e+04</td>\n",
       "      <td>18.119885</td>\n",
       "      <td>0.681080</td>\n",
       "      <td>11.546041</td>\n",
       "      <td>1.691142e+04</td>\n",
       "      <td>55.021469</td>\n",
       "      <td>25.275303</td>\n",
       "      <td>2.291882e+02</td>\n",
       "      <td>1.397949e+05</td>\n",
       "      <td>3.216584e+04</td>\n",
       "    </tr>\n",
       "    <tr>\n",
       "      <th>std</th>\n",
       "      <td>8427.084079</td>\n",
       "      <td>4.367862</td>\n",
       "      <td>243.818355</td>\n",
       "      <td>3.664245</td>\n",
       "      <td>6.368867e+04</td>\n",
       "      <td>14.724589</td>\n",
       "      <td>0.963882</td>\n",
       "      <td>5.306586</td>\n",
       "      <td>2.217021e+04</td>\n",
       "      <td>23.821230</td>\n",
       "      <td>11.821238</td>\n",
       "      <td>1.169031e+04</td>\n",
       "      <td>1.540779e+05</td>\n",
       "      <td>3.875880e+04</td>\n",
       "    </tr>\n",
       "    <tr>\n",
       "      <th>min</th>\n",
       "      <td>500.000000</td>\n",
       "      <td>5.320000</td>\n",
       "      <td>15.690000</td>\n",
       "      <td>0.000000</td>\n",
       "      <td>0.000000e+00</td>\n",
       "      <td>0.000000</td>\n",
       "      <td>0.000000</td>\n",
       "      <td>0.000000</td>\n",
       "      <td>0.000000e+00</td>\n",
       "      <td>0.000000</td>\n",
       "      <td>2.000000</td>\n",
       "      <td>0.000000e+00</td>\n",
       "      <td>0.000000e+00</td>\n",
       "      <td>0.000000e+00</td>\n",
       "    </tr>\n",
       "    <tr>\n",
       "      <th>25%</th>\n",
       "      <td>8000.000000</td>\n",
       "      <td>9.990000</td>\n",
       "      <td>260.730000</td>\n",
       "      <td>3.000000</td>\n",
       "      <td>4.500000e+04</td>\n",
       "      <td>11.890000</td>\n",
       "      <td>0.000000</td>\n",
       "      <td>8.000000</td>\n",
       "      <td>6.473000e+03</td>\n",
       "      <td>37.600000</td>\n",
       "      <td>17.000000</td>\n",
       "      <td>0.000000e+00</td>\n",
       "      <td>2.987900e+04</td>\n",
       "      <td>1.400000e+04</td>\n",
       "    </tr>\n",
       "    <tr>\n",
       "      <th>50%</th>\n",
       "      <td>13000.000000</td>\n",
       "      <td>12.990000</td>\n",
       "      <td>382.550000</td>\n",
       "      <td>6.000000</td>\n",
       "      <td>6.500000e+04</td>\n",
       "      <td>17.620000</td>\n",
       "      <td>0.000000</td>\n",
       "      <td>11.000000</td>\n",
       "      <td>1.191200e+04</td>\n",
       "      <td>55.900000</td>\n",
       "      <td>24.000000</td>\n",
       "      <td>0.000000e+00</td>\n",
       "      <td>8.090500e+04</td>\n",
       "      <td>2.380000e+04</td>\n",
       "    </tr>\n",
       "    <tr>\n",
       "      <th>75%</th>\n",
       "      <td>20000.000000</td>\n",
       "      <td>15.990000</td>\n",
       "      <td>571.570000</td>\n",
       "      <td>10.000000</td>\n",
       "      <td>9.000000e+04</td>\n",
       "      <td>23.900000</td>\n",
       "      <td>1.000000</td>\n",
       "      <td>14.000000</td>\n",
       "      <td>2.088000e+04</td>\n",
       "      <td>73.500000</td>\n",
       "      <td>32.000000</td>\n",
       "      <td>0.000000e+00</td>\n",
       "      <td>2.087525e+05</td>\n",
       "      <td>3.990000e+04</td>\n",
       "    </tr>\n",
       "    <tr>\n",
       "      <th>max</th>\n",
       "      <td>35000.000000</td>\n",
       "      <td>28.990000</td>\n",
       "      <td>1445.460000</td>\n",
       "      <td>10.000000</td>\n",
       "      <td>9.500000e+06</td>\n",
       "      <td>9999.000000</td>\n",
       "      <td>8.000000</td>\n",
       "      <td>79.000000</td>\n",
       "      <td>2.904836e+06</td>\n",
       "      <td>892.300000</td>\n",
       "      <td>169.000000</td>\n",
       "      <td>9.152545e+06</td>\n",
       "      <td>8.000078e+06</td>\n",
       "      <td>9.999999e+06</td>\n",
       "    </tr>\n",
       "  </tbody>\n",
       "</table>\n",
       "</div>"
      ],
      "text/plain": [
       "           loan_amnt       int_rate    installment     emp_length  \\\n",
       "count  684621.000000  684621.000000  684621.000000  650174.000000   \n",
       "mean    14752.932864      13.194997     436.432773       6.018004   \n",
       "std      8427.084079       4.367862     243.818355       3.664245   \n",
       "min       500.000000       5.320000      15.690000       0.000000   \n",
       "25%      8000.000000       9.990000     260.730000       3.000000   \n",
       "50%     13000.000000      12.990000     382.550000       6.000000   \n",
       "75%     20000.000000      15.990000     571.570000      10.000000   \n",
       "max     35000.000000      28.990000    1445.460000      10.000000   \n",
       "\n",
       "         annual_inc            dti  inq_last_6mths       open_acc  \\\n",
       "count  6.846210e+05  684621.000000   684621.000000  684621.000000   \n",
       "mean   7.508404e+04      18.119885        0.681080      11.546041   \n",
       "std    6.368867e+04      14.724589        0.963882       5.306586   \n",
       "min    0.000000e+00       0.000000        0.000000       0.000000   \n",
       "25%    4.500000e+04      11.890000        0.000000       8.000000   \n",
       "50%    6.500000e+04      17.620000        0.000000      11.000000   \n",
       "75%    9.000000e+04      23.900000        1.000000      14.000000   \n",
       "max    9.500000e+06    9999.000000        8.000000      79.000000   \n",
       "\n",
       "          revol_bal     revol_util      total_acc  tot_coll_amt   tot_cur_bal  \\\n",
       "count  6.846210e+05  684267.000000  684621.000000  6.310070e+05  6.310070e+05   \n",
       "mean   1.691142e+04      55.021469      25.275303  2.291882e+02  1.397949e+05   \n",
       "std    2.217021e+04      23.821230      11.821238  1.169031e+04  1.540779e+05   \n",
       "min    0.000000e+00       0.000000       2.000000  0.000000e+00  0.000000e+00   \n",
       "25%    6.473000e+03      37.600000      17.000000  0.000000e+00  2.987900e+04   \n",
       "50%    1.191200e+04      55.900000      24.000000  0.000000e+00  8.090500e+04   \n",
       "75%    2.088000e+04      73.500000      32.000000  0.000000e+00  2.087525e+05   \n",
       "max    2.904836e+06     892.300000     169.000000  9.152545e+06  8.000078e+06   \n",
       "\n",
       "       total_rev_hi_lim  \n",
       "count      6.310070e+05  \n",
       "mean       3.216584e+04  \n",
       "std        3.875880e+04  \n",
       "min        0.000000e+00  \n",
       "25%        1.400000e+04  \n",
       "50%        2.380000e+04  \n",
       "75%        3.990000e+04  \n",
       "max        9.999999e+06  "
      ]
     },
     "execution_count": 71,
     "metadata": {},
     "output_type": "execute_result"
    }
   ],
   "source": [
    "mean_median=Sub_train.describe()\n",
    "mean_median"
   ]
  },
  {
   "cell_type": "code",
   "execution_count": 72,
   "metadata": {},
   "outputs": [
    {
     "data": {
      "text/plain": [
       "loan_amnt                  0\n",
       "term                       0\n",
       "int_rate                   0\n",
       "installment                0\n",
       "grade                      0\n",
       "emp_length             34447\n",
       "home_ownership             0\n",
       "annual_inc                 0\n",
       "verification_status        0\n",
       "issue_d                    0\n",
       "purpose                    0\n",
       "addr_state                 0\n",
       "dti                        0\n",
       "delinq_2yrs                0\n",
       "inq_last_6mths             0\n",
       "open_acc                   0\n",
       "pub_rec                    0\n",
       "revol_bal                  0\n",
       "revol_util               354\n",
       "total_acc                  0\n",
       "initial_list_status        0\n",
       "tot_coll_amt           53614\n",
       "tot_cur_bal            53614\n",
       "total_rev_hi_lim       53614\n",
       "source                     0\n",
       "dtype: int64"
      ]
     },
     "execution_count": 72,
     "metadata": {},
     "output_type": "execute_result"
    }
   ],
   "source": [
    "Sub_train.isnull().sum()"
   ]
  },
  {
   "cell_type": "code",
   "execution_count": 73,
   "metadata": {},
   "outputs": [],
   "source": [
    "full_X.revol_util.fillna(55.99,inplace=True)\n",
    "full_X.tot_cur_bal.fillna(80905,inplace=True)\n",
    "full_X.total_rev_hi_lim.fillna(23800,inplace=True)\n",
    "full_X.emp_length.fillna(6,inplace=True)"
   ]
  },
  {
   "cell_type": "markdown",
   "metadata": {},
   "source": [
    "                               4. Feature Engineering"
   ]
  },
  {
   "cell_type": "code",
   "execution_count": 74,
   "metadata": {},
   "outputs": [],
   "source": [
    "full_X['loan_income_ratio']= full_X['loan_amnt']/full_X['annual_inc']\n",
    "\n",
    "full_X['non_use_acc']= full_X['total_acc'] - full_X['open_acc']"
   ]
  },
  {
   "cell_type": "markdown",
   "metadata": {},
   "source": [
    "                               5. Dummy Variable Creation and Sampling"
   ]
  },
  {
   "cell_type": "code",
   "execution_count": 75,
   "metadata": {},
   "outputs": [
    {
     "data": {
      "text/plain": [
       "Index(['loan_amnt', 'term', 'int_rate', 'installment', 'grade', 'emp_length',\n",
       "       'home_ownership', 'annual_inc', 'verification_status', 'purpose', 'dti',\n",
       "       'delinq_2yrs', 'inq_last_6mths', 'open_acc', 'pub_rec', 'revol_bal',\n",
       "       'revol_util', 'total_acc', 'initial_list_status', 'tot_cur_bal',\n",
       "       'total_rev_hi_lim', 'source', 'loan_income_ratio', 'non_use_acc'],\n",
       "      dtype='object')"
      ]
     },
     "execution_count": 75,
     "metadata": {},
     "output_type": "execute_result"
    }
   ],
   "source": [
    "# drop non-relevant columns\n",
    "to_drop=['issue_d','addr_state','tot_coll_amt']\n",
    "\n",
    "full_X.drop(to_drop,axis=1,inplace=True)\n",
    "full_X.columns"
   ]
  },
  {
   "cell_type": "code",
   "execution_count": 76,
   "metadata": {},
   "outputs": [],
   "source": [
    "object_val=[x for x in full_X.dtypes.index if full_X.dtypes[x]=='object']\n",
    "object_val.remove('source')"
   ]
  },
  {
   "cell_type": "code",
   "execution_count": 77,
   "metadata": {},
   "outputs": [
    {
     "data": {
      "text/plain": [
       "Index(['loan_amnt', 'int_rate', 'installment', 'emp_length', 'annual_inc',\n",
       "       'dti', 'inq_last_6mths', 'open_acc', 'revol_bal', 'revol_util',\n",
       "       'total_acc', 'tot_cur_bal', 'total_rev_hi_lim', 'source',\n",
       "       'loan_income_ratio', 'non_use_acc', 'term_ 60 months', 'grade_B',\n",
       "       'grade_C', 'grade_D', 'grade_E', 'grade_F', 'grade_G',\n",
       "       'home_ownership_OWN', 'home_ownership_RENT',\n",
       "       'verification_status_Source Verified', 'verification_status_Verified',\n",
       "       'purpose_debt_consolidation', 'purpose_home_improvement',\n",
       "       'purpose_major_purchase', 'purpose_other', 'purpose_sub_cat',\n",
       "       'delinq_2yrs_1', 'delinq_2yrs_2_39Yrs', 'pub_rec_1', 'pub_rec_2_86',\n",
       "       'initial_list_status_w'],\n",
       "      dtype='object')"
      ]
     },
     "execution_count": 77,
     "metadata": {},
     "output_type": "execute_result"
    }
   ],
   "source": [
    "df_dummy = pd.DataFrame(data=full_X, columns=object_val)\n",
    "\n",
    "dummy_coded=pd.get_dummies(df_dummy,drop_first=True,dtype=float) # with K-1\n",
    "dummy_fullset=pd.concat([full_X,dummy_coded],axis=1)\n",
    "to_rem=object_val.copy()\n",
    "dummy_fullset.drop(to_rem,axis=1,inplace=True)\n",
    "dummy_fullset.columns"
   ]
  },
  {
   "cell_type": "code",
   "execution_count": 78,
   "metadata": {},
   "outputs": [
    {
     "data": {
      "text/html": [
       "<div>\n",
       "<style scoped>\n",
       "    .dataframe tbody tr th:only-of-type {\n",
       "        vertical-align: middle;\n",
       "    }\n",
       "\n",
       "    .dataframe tbody tr th {\n",
       "        vertical-align: top;\n",
       "    }\n",
       "\n",
       "    .dataframe thead th {\n",
       "        text-align: right;\n",
       "    }\n",
       "</style>\n",
       "<table border=\"1\" class=\"dataframe\">\n",
       "  <thead>\n",
       "    <tr style=\"text-align: right;\">\n",
       "      <th></th>\n",
       "      <th>term_ 60 months</th>\n",
       "      <th>grade_B</th>\n",
       "      <th>grade_C</th>\n",
       "      <th>grade_D</th>\n",
       "      <th>grade_E</th>\n",
       "      <th>grade_F</th>\n",
       "      <th>grade_G</th>\n",
       "      <th>home_ownership_OWN</th>\n",
       "      <th>home_ownership_RENT</th>\n",
       "      <th>verification_status_Source Verified</th>\n",
       "      <th>...</th>\n",
       "      <th>purpose_debt_consolidation</th>\n",
       "      <th>purpose_home_improvement</th>\n",
       "      <th>purpose_major_purchase</th>\n",
       "      <th>purpose_other</th>\n",
       "      <th>purpose_sub_cat</th>\n",
       "      <th>delinq_2yrs_1</th>\n",
       "      <th>delinq_2yrs_2_39Yrs</th>\n",
       "      <th>pub_rec_1</th>\n",
       "      <th>pub_rec_2_86</th>\n",
       "      <th>initial_list_status_w</th>\n",
       "    </tr>\n",
       "  </thead>\n",
       "  <tbody>\n",
       "    <tr>\n",
       "      <th>425814</th>\n",
       "      <td>1.0</td>\n",
       "      <td>0.0</td>\n",
       "      <td>0.0</td>\n",
       "      <td>1.0</td>\n",
       "      <td>0.0</td>\n",
       "      <td>0.0</td>\n",
       "      <td>0.0</td>\n",
       "      <td>0.0</td>\n",
       "      <td>1.0</td>\n",
       "      <td>1.0</td>\n",
       "      <td>...</td>\n",
       "      <td>1.0</td>\n",
       "      <td>0.0</td>\n",
       "      <td>0.0</td>\n",
       "      <td>0.0</td>\n",
       "      <td>0.0</td>\n",
       "      <td>0.0</td>\n",
       "      <td>0.0</td>\n",
       "      <td>1.0</td>\n",
       "      <td>0.0</td>\n",
       "      <td>0.0</td>\n",
       "    </tr>\n",
       "    <tr>\n",
       "      <th>276442</th>\n",
       "      <td>0.0</td>\n",
       "      <td>0.0</td>\n",
       "      <td>0.0</td>\n",
       "      <td>0.0</td>\n",
       "      <td>0.0</td>\n",
       "      <td>0.0</td>\n",
       "      <td>0.0</td>\n",
       "      <td>1.0</td>\n",
       "      <td>0.0</td>\n",
       "      <td>0.0</td>\n",
       "      <td>...</td>\n",
       "      <td>1.0</td>\n",
       "      <td>0.0</td>\n",
       "      <td>0.0</td>\n",
       "      <td>0.0</td>\n",
       "      <td>0.0</td>\n",
       "      <td>0.0</td>\n",
       "      <td>0.0</td>\n",
       "      <td>0.0</td>\n",
       "      <td>0.0</td>\n",
       "      <td>1.0</td>\n",
       "    </tr>\n",
       "    <tr>\n",
       "      <th>271606</th>\n",
       "      <td>1.0</td>\n",
       "      <td>0.0</td>\n",
       "      <td>0.0</td>\n",
       "      <td>1.0</td>\n",
       "      <td>0.0</td>\n",
       "      <td>0.0</td>\n",
       "      <td>0.0</td>\n",
       "      <td>0.0</td>\n",
       "      <td>0.0</td>\n",
       "      <td>1.0</td>\n",
       "      <td>...</td>\n",
       "      <td>0.0</td>\n",
       "      <td>0.0</td>\n",
       "      <td>0.0</td>\n",
       "      <td>0.0</td>\n",
       "      <td>0.0</td>\n",
       "      <td>0.0</td>\n",
       "      <td>0.0</td>\n",
       "      <td>0.0</td>\n",
       "      <td>0.0</td>\n",
       "      <td>1.0</td>\n",
       "    </tr>\n",
       "    <tr>\n",
       "      <th>747470</th>\n",
       "      <td>1.0</td>\n",
       "      <td>0.0</td>\n",
       "      <td>0.0</td>\n",
       "      <td>0.0</td>\n",
       "      <td>0.0</td>\n",
       "      <td>0.0</td>\n",
       "      <td>1.0</td>\n",
       "      <td>0.0</td>\n",
       "      <td>1.0</td>\n",
       "      <td>1.0</td>\n",
       "      <td>...</td>\n",
       "      <td>1.0</td>\n",
       "      <td>0.0</td>\n",
       "      <td>0.0</td>\n",
       "      <td>0.0</td>\n",
       "      <td>0.0</td>\n",
       "      <td>0.0</td>\n",
       "      <td>0.0</td>\n",
       "      <td>0.0</td>\n",
       "      <td>0.0</td>\n",
       "      <td>0.0</td>\n",
       "    </tr>\n",
       "    <tr>\n",
       "      <th>563468</th>\n",
       "      <td>0.0</td>\n",
       "      <td>0.0</td>\n",
       "      <td>0.0</td>\n",
       "      <td>0.0</td>\n",
       "      <td>1.0</td>\n",
       "      <td>0.0</td>\n",
       "      <td>0.0</td>\n",
       "      <td>0.0</td>\n",
       "      <td>1.0</td>\n",
       "      <td>0.0</td>\n",
       "      <td>...</td>\n",
       "      <td>0.0</td>\n",
       "      <td>0.0</td>\n",
       "      <td>0.0</td>\n",
       "      <td>0.0</td>\n",
       "      <td>1.0</td>\n",
       "      <td>0.0</td>\n",
       "      <td>0.0</td>\n",
       "      <td>0.0</td>\n",
       "      <td>0.0</td>\n",
       "      <td>1.0</td>\n",
       "    </tr>\n",
       "  </tbody>\n",
       "</table>\n",
       "<p>5 rows × 21 columns</p>\n",
       "</div>"
      ],
      "text/plain": [
       "        term_ 60 months  grade_B  grade_C  grade_D  grade_E  grade_F  grade_G  \\\n",
       "425814              1.0      0.0      0.0      1.0      0.0      0.0      0.0   \n",
       "276442              0.0      0.0      0.0      0.0      0.0      0.0      0.0   \n",
       "271606              1.0      0.0      0.0      1.0      0.0      0.0      0.0   \n",
       "747470              1.0      0.0      0.0      0.0      0.0      0.0      1.0   \n",
       "563468              0.0      0.0      0.0      0.0      1.0      0.0      0.0   \n",
       "\n",
       "        home_ownership_OWN  home_ownership_RENT  \\\n",
       "425814                 0.0                  1.0   \n",
       "276442                 1.0                  0.0   \n",
       "271606                 0.0                  0.0   \n",
       "747470                 0.0                  1.0   \n",
       "563468                 0.0                  1.0   \n",
       "\n",
       "        verification_status_Source Verified  ...  purpose_debt_consolidation  \\\n",
       "425814                                  1.0  ...                         1.0   \n",
       "276442                                  0.0  ...                         1.0   \n",
       "271606                                  1.0  ...                         0.0   \n",
       "747470                                  1.0  ...                         1.0   \n",
       "563468                                  0.0  ...                         0.0   \n",
       "\n",
       "        purpose_home_improvement  purpose_major_purchase  purpose_other  \\\n",
       "425814                       0.0                     0.0            0.0   \n",
       "276442                       0.0                     0.0            0.0   \n",
       "271606                       0.0                     0.0            0.0   \n",
       "747470                       0.0                     0.0            0.0   \n",
       "563468                       0.0                     0.0            0.0   \n",
       "\n",
       "        purpose_sub_cat  delinq_2yrs_1  delinq_2yrs_2_39Yrs  pub_rec_1  \\\n",
       "425814              0.0            0.0                  0.0        1.0   \n",
       "276442              0.0            0.0                  0.0        0.0   \n",
       "271606              0.0            0.0                  0.0        0.0   \n",
       "747470              0.0            0.0                  0.0        0.0   \n",
       "563468              1.0            0.0                  0.0        0.0   \n",
       "\n",
       "        pub_rec_2_86  initial_list_status_w  \n",
       "425814           0.0                    0.0  \n",
       "276442           0.0                    1.0  \n",
       "271606           0.0                    1.0  \n",
       "747470           0.0                    0.0  \n",
       "563468           0.0                    1.0  \n",
       "\n",
       "[5 rows x 21 columns]"
      ]
     },
     "execution_count": 78,
     "metadata": {},
     "output_type": "execute_result"
    }
   ],
   "source": [
    "dummy_coded.head()"
   ]
  },
  {
   "cell_type": "markdown",
   "metadata": {},
   "source": [
    "                                       5 (b) Sample it into train and test set"
   ]
  },
  {
   "cell_type": "code",
   "execution_count": 79,
   "metadata": {},
   "outputs": [],
   "source": [
    "train_x=dummy_fullset.loc[dummy_fullset['source']=='train',:]\n",
    "del train_x['source']\n",
    "test_x=dummy_fullset.loc[dummy_fullset['source']=='test',:]\n",
    "del test_x['source']"
   ]
  },
  {
   "cell_type": "code",
   "execution_count": 80,
   "metadata": {},
   "outputs": [],
   "source": [
    "train_y=Y_train_df.copy().astype('int')\n",
    "test_y=Y_test_df.copy().astype('int')"
   ]
  },
  {
   "cell_type": "markdown",
   "metadata": {},
   "source": [
    "                                    Model Building"
   ]
  },
  {
   "cell_type": "markdown",
   "metadata": {},
   "source": [
    "a. Random Forest (To identify the significant variables)\n",
    "b. Logistic Regression\n",
    "c. Decision Tree\n",
    "d. Adaptive Boosting"
   ]
  },
  {
   "cell_type": "markdown",
   "metadata": {},
   "source": [
    "                               a. Random Forest"
   ]
  },
  {
   "cell_type": "code",
   "execution_count": 81,
   "metadata": {},
   "outputs": [],
   "source": [
    "# Random Forest Classifier and some other modules\n",
    "from sklearn.ensemble import RandomForestClassifier\n",
    "from sklearn.model_selection import GridSearchCV\n",
    "from sklearn.metrics import roc_curve, precision_recall_curve, auc, make_scorer, recall_score, accuracy_score, precision_score, confusion_matrix\n",
    "from sklearn import metrics\n",
    "from sklearn.metrics import classification_report"
   ]
  },
  {
   "cell_type": "markdown",
   "metadata": {},
   "source": [
    "                    GridSearchCV - To choose the optimal parameter"
   ]
  },
  {
   "cell_type": "code",
   "execution_count": 82,
   "metadata": {},
   "outputs": [
    {
     "data": {
      "text/plain": [
       "{'max_depth': 4}"
      ]
     },
     "execution_count": 82,
     "metadata": {},
     "output_type": "execute_result"
    }
   ],
   "source": [
    "# Choosing the optimal parameter for the classifier                     \n",
    "\n",
    "param_grid = [{'max_depth':[2,3,4,6]}]\n",
    "\n",
    "scorer={'recall_score': make_scorer(recall_score)}\n",
    "\n",
    "RF = RandomForestClassifier(random_state = 123,n_estimators=100,criterion='entropy',class_weight='balanced',max_features='sqrt')\n",
    "RF_GS=GridSearchCV(RF,param_grid=param_grid,scoring=scorer,refit='recall_score',cv=3,n_jobs=-1)\n",
    "RF_GS.fit(train_x,train_y)  \n",
    "RF_GS.best_params_"
   ]
  },
  {
   "cell_type": "markdown",
   "metadata": {},
   "source": [
    "                        Build the model with optimal parameter"
   ]
  },
  {
   "cell_type": "code",
   "execution_count": 83,
   "metadata": {},
   "outputs": [
    {
     "data": {
      "text/plain": [
       "RandomForestClassifier(bootstrap=True, class_weight='balanced',\n",
       "            criterion='entropy', max_depth=4, max_features='sqrt',\n",
       "            max_leaf_nodes=None, min_impurity_decrease=0.0,\n",
       "            min_impurity_split=None, min_samples_leaf=1,\n",
       "            min_samples_split=2, min_weight_fraction_leaf=0.0,\n",
       "            n_estimators=100, n_jobs=None, oob_score=False,\n",
       "            random_state=123, verbose=0, warm_start=False)"
      ]
     },
     "execution_count": 83,
     "metadata": {},
     "output_type": "execute_result"
    }
   ],
   "source": [
    "RF_1 = RandomForestClassifier(random_state = 123,n_estimators=100,criterion='entropy',class_weight='balanced',max_depth=4,max_features='sqrt')\n",
    "RF_1.fit(train_x,train_y)"
   ]
  },
  {
   "cell_type": "code",
   "execution_count": 84,
   "metadata": {},
   "outputs": [
    {
     "data": {
      "text/plain": [
       "0.7540292049756625"
      ]
     },
     "execution_count": 84,
     "metadata": {},
     "output_type": "execute_result"
    }
   ],
   "source": [
    "# predict on test set\n",
    "pred_test_RF=RF_1.predict(test_x)\n",
    "metrics.recall_score(test_y,pred_test_RF)"
   ]
  },
  {
   "cell_type": "code",
   "execution_count": 85,
   "metadata": {},
   "outputs": [
    {
     "data": {
      "text/plain": [
       "array([[101847,  60064],\n",
       "       [  2274,   6971]], dtype=int64)"
      ]
     },
     "execution_count": 85,
     "metadata": {},
     "output_type": "execute_result"
    }
   ],
   "source": [
    "Confusion_Mat_test_RF = confusion_matrix(test_y,pred_test_RF)\n",
    "Confusion_Mat_test_RF"
   ]
  },
  {
   "cell_type": "code",
   "execution_count": 86,
   "metadata": {},
   "outputs": [
    {
     "data": {
      "text/plain": [
       "0.744756373023556"
      ]
     },
     "execution_count": 86,
     "metadata": {},
     "output_type": "execute_result"
    }
   ],
   "source": [
    "# predict on train set\n",
    "pred_RF=RF_1.predict(train_x)\n",
    "metrics.recall_score(train_y,pred_RF) "
   ]
  },
  {
   "cell_type": "code",
   "execution_count": 87,
   "metadata": {},
   "outputs": [
    {
     "data": {
      "text/plain": [
       "loan_amnt                              0.002118\n",
       "int_rate                               0.406313\n",
       "installment                            0.001598\n",
       "emp_length                             0.000425\n",
       "annual_inc                             0.034910\n",
       "dti                                    0.004388\n",
       "inq_last_6mths                         0.052928\n",
       "open_acc                               0.000458\n",
       "revol_bal                              0.002985\n",
       "revol_util                             0.006449\n",
       "total_acc                              0.000064\n",
       "tot_cur_bal                            0.055413\n",
       "total_rev_hi_lim                       0.099146\n",
       "loan_income_ratio                      0.019156\n",
       "non_use_acc                            0.000182\n",
       "term_ 60 months                        0.010725\n",
       "grade_B                                0.013246\n",
       "grade_C                                0.001862\n",
       "grade_D                                0.022137\n",
       "grade_E                                0.021354\n",
       "grade_F                                0.017786\n",
       "grade_G                                0.001244\n",
       "home_ownership_OWN                     0.000000\n",
       "home_ownership_RENT                    0.003841\n",
       "verification_status_Source Verified    0.003567\n",
       "verification_status_Verified           0.024438\n",
       "purpose_debt_consolidation             0.000001\n",
       "purpose_home_improvement               0.000006\n",
       "purpose_major_purchase                 0.000000\n",
       "purpose_other                          0.000235\n",
       "purpose_sub_cat                        0.003340\n",
       "delinq_2yrs_1                          0.000010\n",
       "delinq_2yrs_2_39Yrs                    0.000000\n",
       "pub_rec_1                              0.000446\n",
       "pub_rec_2_86                           0.000277\n",
       "initial_list_status_w                  0.188952\n",
       "Name: variables, dtype: float64"
      ]
     },
     "execution_count": 87,
     "metadata": {},
     "output_type": "execute_result"
    }
   ],
   "source": [
    "Var_Importance_RF= pd.Series(data=RF_1.feature_importances_,index=train_x.columns,name='variables')\n",
    "Var_Importance_RF"
   ]
  },
  {
   "cell_type": "code",
   "execution_count": 88,
   "metadata": {},
   "outputs": [],
   "source": [
    "# subset x and y with important predictors\n",
    "least_importance=Var_Importance_RF[Var_Importance_RF.values < 0.005].index\n",
    "train_x_1=train_x.drop(least_importance,axis=1).copy()\n",
    "test_x_1=test_x.drop(least_importance,axis=1).copy()"
   ]
  },
  {
   "cell_type": "markdown",
   "metadata": {},
   "source": [
    "                           Random Forest Model-2 with important predictors"
   ]
  },
  {
   "cell_type": "code",
   "execution_count": 89,
   "metadata": {},
   "outputs": [],
   "source": [
    "RF_2 = RandomForestClassifier(random_state = 123,n_estimators=100,criterion='entropy',class_weight='balanced',max_depth=6,max_features='sqrt')\n",
    "RF_2=RF_2.fit(train_x_1,train_y)"
   ]
  },
  {
   "cell_type": "code",
   "execution_count": 90,
   "metadata": {},
   "outputs": [
    {
     "data": {
      "text/plain": [
       "0.7461330448891292"
      ]
     },
     "execution_count": 90,
     "metadata": {},
     "output_type": "execute_result"
    }
   ],
   "source": [
    "# predict on test set\n",
    "pred_test_RF_2=RF_2.predict(test_x_1)\n",
    "metrics.recall_score(test_y,pred_test_RF_2)"
   ]
  },
  {
   "cell_type": "code",
   "execution_count": 91,
   "metadata": {},
   "outputs": [
    {
     "data": {
      "text/plain": [
       "array([[105377,  56534],\n",
       "       [  2347,   6898]], dtype=int64)"
      ]
     },
     "execution_count": 91,
     "metadata": {},
     "output_type": "execute_result"
    }
   ],
   "source": [
    "Confusion_Mat_test_RF_2 = confusion_matrix(test_y,pred_test_RF_2)\n",
    "Confusion_Mat_test_RF_2"
   ]
  },
  {
   "cell_type": "code",
   "execution_count": 92,
   "metadata": {},
   "outputs": [
    {
     "data": {
      "text/plain": [
       "int_rate                        0.427713\n",
       "annual_inc                      0.038666\n",
       "inq_last_6mths                  0.052662\n",
       "revol_util                      0.009595\n",
       "tot_cur_bal                     0.072173\n",
       "total_rev_hi_lim                0.103117\n",
       "loan_income_ratio               0.021265\n",
       "term_ 60 months                 0.017127\n",
       "grade_B                         0.020529\n",
       "grade_D                         0.015891\n",
       "grade_E                         0.014831\n",
       "grade_F                         0.013788\n",
       "verification_status_Verified    0.019019\n",
       "initial_list_status_w           0.173624\n",
       "Name: variables, dtype: float64"
      ]
     },
     "execution_count": 92,
     "metadata": {},
     "output_type": "execute_result"
    }
   ],
   "source": [
    "Var_Importance_RF_2= pd.Series(data=RF_2.feature_importances_,index=train_x_1.columns,name='variables')\n",
    "Var_Importance_RF_2"
   ]
  },
  {
   "cell_type": "code",
   "execution_count": 93,
   "metadata": {},
   "outputs": [],
   "source": [
    "# subset-2 with important predictors\n",
    "least_importance_2=Var_Importance_RF_2[Var_Importance_RF_2.values < 0.01].index\n",
    "train_x_2=train_x_1.drop(least_importance_2,axis=1).copy()\n",
    "test_x_2=test_x_1.drop(least_importance_2,axis=1).copy()"
   ]
  },
  {
   "cell_type": "markdown",
   "metadata": {},
   "source": [
    "                              Random Forest Model-3 with important predictors"
   ]
  },
  {
   "cell_type": "code",
   "execution_count": 94,
   "metadata": {},
   "outputs": [],
   "source": [
    "RF_3 = RandomForestClassifier(random_state = 123,n_estimators=100,criterion='entropy',class_weight='balanced',max_depth=6,max_features='sqrt')\n",
    "RF_3=RF_3.fit(train_x_2,train_y)"
   ]
  },
  {
   "cell_type": "code",
   "execution_count": 95,
   "metadata": {},
   "outputs": [
    {
     "data": {
      "text/plain": [
       "0.7457003785830179"
      ]
     },
     "execution_count": 95,
     "metadata": {},
     "output_type": "execute_result"
    }
   ],
   "source": [
    "# predict on test set\n",
    "pred_test_RF_3=RF_3.predict(test_x_2)\n",
    "metrics.recall_score(test_y,pred_test_RF_3)"
   ]
  },
  {
   "cell_type": "code",
   "execution_count": 96,
   "metadata": {},
   "outputs": [
    {
     "data": {
      "text/plain": [
       "int_rate                        0.446819\n",
       "annual_inc                      0.038977\n",
       "inq_last_6mths                  0.051291\n",
       "tot_cur_bal                     0.081250\n",
       "total_rev_hi_lim                0.087183\n",
       "loan_income_ratio               0.021097\n",
       "term_ 60 months                 0.014966\n",
       "grade_B                         0.019079\n",
       "grade_D                         0.014838\n",
       "grade_E                         0.018864\n",
       "grade_F                         0.012508\n",
       "verification_status_Verified    0.014828\n",
       "initial_list_status_w           0.178299\n",
       "Name: variables, dtype: float64"
      ]
     },
     "execution_count": 96,
     "metadata": {},
     "output_type": "execute_result"
    }
   ],
   "source": [
    "Var_Importance_RF_3= pd.Series(data=RF_3.feature_importances_,index=train_x_2.columns,name='variables')\n",
    "Var_Importance_RF_3"
   ]
  },
  {
   "cell_type": "code",
   "execution_count": 97,
   "metadata": {},
   "outputs": [
    {
     "data": {
      "text/plain": [
       "<matplotlib.axes._subplots.AxesSubplot at 0x3d9a1b00>"
      ]
     },
     "execution_count": 97,
     "metadata": {},
     "output_type": "execute_result"
    },
    {
     "data": {
      "image/png": "[encoded data removed]",
      "text/plain": [
       "<Figure size 432x288 with 1 Axes>"
      ]
     },
     "metadata": {
      "needs_background": "light"
     },
     "output_type": "display_data"
    }
   ],
   "source": [
    "%matplotlib inline\n",
    "Var_Importance_RF_3.plot(kind='bar')"
   ]
  },
  {
   "cell_type": "code",
   "execution_count": 98,
   "metadata": {},
   "outputs": [
    {
     "name": "stderr",
     "output_type": "stream",
     "text": [
      "C:\\Users\\chandrahas\\Anaconda3\\lib\\site-packages\\ipykernel_launcher.py:2: FutureWarning: The signature of `Series.to_csv` was aligned to that of `DataFrame.to_csv`, and argument 'header' will change its default value from False to True: please pass an explicit value to suppress this warning.\n",
      "  \n"
     ]
    }
   ],
   "source": [
    "# save the important predictors in the csv file\n",
    "Var_Importance_RF_3.to_csv('important_predictors_RF.csv')"
   ]
  },
  {
   "cell_type": "markdown",
   "metadata": {},
   "source": [
    "                             b. Logistic Regression"
   ]
  },
  {
   "cell_type": "markdown",
   "metadata": {},
   "source": [
    "                  Multi-collinearity check using VIF"
   ]
  },
  {
   "cell_type": "code",
   "execution_count": 99,
   "metadata": {},
   "outputs": [
    {
     "name": "stdout",
     "output_type": "stream",
     "text": [
      "int_rate :  7.319185392693987\n",
      "annual_inc :  4.970044518408274\n",
      "inq_last_6mths :  1.620011056743056\n",
      "tot_cur_bal :  2.768293887550182\n",
      "total_rev_hi_lim :  2.0463481353514172\n",
      "loan_income_ratio :  1.0000452730854896\n",
      "term_ 60 months :  1.8289150861043495\n",
      "grade_B :  1.5326904765183902\n",
      "grade_D :  1.755154875434547\n",
      "grade_E :  1.5669987368733342\n",
      "grade_F :  1.2815297520223576\n",
      "verification_status_Verified :  1.5757501784077723\n",
      "initial_list_status_w :  1.8769737355960718\n"
     ]
    }
   ],
   "source": [
    "from statsmodels.stats.outliers_influence import variance_inflation_factor\n",
    "\n",
    "for i in range(train_x_2.shape[1]):\n",
    "    temp_vif=variance_inflation_factor(train_x_2.values,i)\n",
    "    print(train_x_2.columns[i],\": \",temp_vif)"
   ]
  },
  {
   "cell_type": "code",
   "execution_count": 100,
   "metadata": {},
   "outputs": [
    {
     "name": "stderr",
     "output_type": "stream",
     "text": [
      "C:\\Users\\chandrahas\\Anaconda3\\lib\\site-packages\\sklearn\\linear_model\\logistic.py:433: FutureWarning: Default solver will be changed to 'lbfgs' in 0.22. Specify a solver to silence this warning.\n",
      "  FutureWarning)\n"
     ]
    }
   ],
   "source": [
    "from sklearn.linear_model import LogisticRegression   \n",
    "\n",
    "Log=LogisticRegression(class_weight='balanced')\n",
    "Log_M1=Log.fit(train_x_2,train_y)"
   ]
  },
  {
   "cell_type": "code",
   "execution_count": 101,
   "metadata": {},
   "outputs": [
    {
     "data": {
      "text/plain": [
       "0.7002704164413196"
      ]
     },
     "execution_count": 101,
     "metadata": {},
     "output_type": "execute_result"
    }
   ],
   "source": [
    "# predict on test data\n",
    "pred_test_log=Log_M1.predict(test_x_2)\n",
    "metrics.recall_score(test_y,pred_test_log)"
   ]
  },
  {
   "cell_type": "code",
   "execution_count": 102,
   "metadata": {},
   "outputs": [
    {
     "data": {
      "text/plain": [
       "array([[102842,  59069],\n",
       "       [  2771,   6474]], dtype=int64)"
      ]
     },
     "execution_count": 102,
     "metadata": {},
     "output_type": "execute_result"
    }
   ],
   "source": [
    "Confusion_Mat_Log = confusion_matrix(test_y,pred_test_log)\n",
    "Confusion_Mat_Log"
   ]
  },
  {
   "cell_type": "markdown",
   "metadata": {},
   "source": [
    "                           C. Decision Tree"
   ]
  },
  {
   "cell_type": "code",
   "execution_count": 103,
   "metadata": {},
   "outputs": [],
   "source": [
    "from sklearn.tree import DecisionTreeClassifier\n",
    "GS = DecisionTreeClassifier(random_state=123,class_weight='balanced',max_features='sqrt')"
   ]
  },
  {
   "cell_type": "markdown",
   "metadata": {},
   "source": [
    "                   GridSearchCV - To choose the optimal parameter"
   ]
  },
  {
   "cell_type": "code",
   "execution_count": 104,
   "metadata": {},
   "outputs": [
    {
     "data": {
      "text/plain": [
       "{'max_depth': 3}"
      ]
     },
     "execution_count": 104,
     "metadata": {},
     "output_type": "execute_result"
    }
   ],
   "source": [
    "param_grid = [{'max_depth': [2,3,4,5,6]}]\n",
    "scorer={'recall_score': make_scorer(recall_score)}\n",
    "Gsearch=GridSearchCV(GS,param_grid=param_grid,scoring=scorer,refit='recall_score',cv=3)\n",
    "GS_Model = Gsearch.fit(train_x_2,train_y)\n",
    "GS_Model.best_score_\n",
    "GS_Model.best_params_"
   ]
  },
  {
   "cell_type": "markdown",
   "metadata": {},
   "source": [
    "                          Build the model with the optimal parameter"
   ]
  },
  {
   "cell_type": "code",
   "execution_count": 105,
   "metadata": {},
   "outputs": [],
   "source": [
    "DT = DecisionTreeClassifier(random_state=123,class_weight='balanced',max_depth=3,max_features='sqrt')\n",
    "DT_1 = DT.fit(train_x_2,train_y)"
   ]
  },
  {
   "cell_type": "code",
   "execution_count": 106,
   "metadata": {},
   "outputs": [
    {
     "data": {
      "text/plain": [
       "0.7802055164954029"
      ]
     },
     "execution_count": 106,
     "metadata": {},
     "output_type": "execute_result"
    }
   ],
   "source": [
    "# Prediction on testset\n",
    "Test_Pred = DT_1.predict(test_x_2)\n",
    "metrics.recall_score(test_y,Test_Pred)"
   ]
  },
  {
   "cell_type": "code",
   "execution_count": 107,
   "metadata": {},
   "outputs": [
    {
     "data": {
      "text/plain": [
       "0.7693879746154674"
      ]
     },
     "execution_count": 107,
     "metadata": {},
     "output_type": "execute_result"
    }
   ],
   "source": [
    "# Prediction on trainset\n",
    "Train_Pred = DT_1.predict(train_x_2)\n",
    "metrics.recall_score(train_y,Train_Pred)"
   ]
  },
  {
   "cell_type": "code",
   "execution_count": 108,
   "metadata": {},
   "outputs": [
    {
     "data": {
      "text/plain": [
       "array([[94094, 67817],\n",
       "       [ 2032,  7213]], dtype=int64)"
      ]
     },
     "execution_count": 108,
     "metadata": {},
     "output_type": "execute_result"
    }
   ],
   "source": [
    "Confusion_Mat_test_DT = confusion_matrix(test_y,Test_Pred)\n",
    "Confusion_Mat_test_DT"
   ]
  },
  {
   "cell_type": "code",
   "execution_count": 109,
   "metadata": {},
   "outputs": [
    {
     "data": {
      "image/png": "[encoded data removed]",
      "text/plain": [
       "<Figure size 432x288 with 2 Axes>"
      ]
     },
     "metadata": {
      "needs_background": "light"
     },
     "output_type": "display_data"
    }
   ],
   "source": [
    "%matplotlib inline\n",
    "import seaborn as sns\n",
    "ax=plt.subplot()\n",
    "sns.heatmap(Confusion_Mat_test_DT,annot=True,ax=ax);\n",
    "# labels, title\n",
    "ax.set_xlabel('Predicted values');ax.set_ylabel('Actual Values');ax.set_title('Decision Tree Matrix')\n",
    "ax.xaxis.set_ticklabels(['Non_Default','Default']);ax.yaxis.set_ticklabels(['Default','Non_Default']);"
   ]
  },
  {
   "cell_type": "markdown",
   "metadata": {},
   "source": [
    "                        4.Adaptive Boosting with Decision Tree as base estimator"
   ]
  },
  {
   "cell_type": "code",
   "execution_count": 110,
   "metadata": {},
   "outputs": [],
   "source": [
    "from sklearn.ensemble import AdaBoostClassifier\n",
    "estimator=DecisionTreeClassifier(max_depth=3,random_state=100,class_weight='balanced')\n",
    "AB= AdaBoostClassifier(base_estimator=estimator,learning_rate=1,random_state=100)"
   ]
  },
  {
   "cell_type": "markdown",
   "metadata": {},
   "source": [
    "                        Choosing the Optimal Parameter using Grid Search"
   ]
  },
  {
   "cell_type": "code",
   "execution_count": 111,
   "metadata": {},
   "outputs": [
    {
     "data": {
      "text/plain": [
       "0.7727223835645907"
      ]
     },
     "execution_count": 111,
     "metadata": {},
     "output_type": "execute_result"
    }
   ],
   "source": [
    "paramgrid={'n_estimators':[50,75,100,125],'learning_rate':[0.25,0.5,0.75]}\n",
    "scorer={'recall_score': make_scorer(recall_score)}\n",
    "AdaGS=GridSearchCV(AB,param_grid=paramgrid,scoring=scorer,refit='recall_score',cv=3,n_jobs=-1)\n",
    "AdaBo_Model=AdaGS.fit(train_x_2,train_y)\n",
    "AdaBo_Model.best_score_"
   ]
  },
  {
   "cell_type": "code",
   "execution_count": 112,
   "metadata": {},
   "outputs": [
    {
     "data": {
      "text/plain": [
       "{'learning_rate': 0.5, 'n_estimators': 100}"
      ]
     },
     "execution_count": 112,
     "metadata": {},
     "output_type": "execute_result"
    }
   ],
   "source": [
    "AdaBo_Model.best_params_"
   ]
  },
  {
   "cell_type": "markdown",
   "metadata": {},
   "source": [
    "                       Build the model with the optimal parameter"
   ]
  },
  {
   "cell_type": "code",
   "execution_count": 113,
   "metadata": {},
   "outputs": [
    {
     "data": {
      "text/plain": [
       "array([1., 1., 1., 1., 1., 1., 1., 1., 1., 1., 1., 1., 1., 1., 1., 1., 1.,\n",
       "       1., 1., 1., 1., 1., 1., 1., 1., 1., 1., 1., 1., 1., 1., 1., 1., 1.,\n",
       "       1., 1., 1., 1., 1., 1., 1., 1., 1., 1., 1., 1., 1., 1., 1., 1., 1.,\n",
       "       1., 1., 1., 1., 1., 1., 1., 1., 1., 1., 1., 1., 1., 1., 1., 1., 1.,\n",
       "       1., 1., 1., 1., 1., 1., 1., 1., 1., 1., 1., 1., 1., 1., 1., 1., 1.,\n",
       "       1., 1., 1., 1., 1., 1., 1., 1., 1., 1., 1., 1., 1., 1., 1.])"
      ]
     },
     "execution_count": 113,
     "metadata": {},
     "output_type": "execute_result"
    }
   ],
   "source": [
    "AB_1= AdaBoostClassifier(base_estimator=estimator,n_estimators=100,learning_rate=0.5,random_state=100)\n",
    "m1=AB_1.fit(train_x_2,train_y)\n",
    "m1.estimator_weights_"
   ]
  },
  {
   "cell_type": "code",
   "execution_count": 114,
   "metadata": {},
   "outputs": [
    {
     "data": {
      "text/plain": [
       "0.7881843605464128"
      ]
     },
     "execution_count": 114,
     "metadata": {},
     "output_type": "execute_result"
    }
   ],
   "source": [
    "# predict on train set\n",
    "train_P=m1.predict(train_x_2)\n",
    "metrics.recall_score(train_y,train_P) "
   ]
  },
  {
   "cell_type": "code",
   "execution_count": 115,
   "metadata": {},
   "outputs": [
    {
     "data": {
      "text/plain": [
       "0.7897241752298539"
      ]
     },
     "execution_count": 115,
     "metadata": {},
     "output_type": "execute_result"
    }
   ],
   "source": [
    "# predict on test set\n",
    "pred_test_boost=m1.predict(test_x_2)\n",
    "metrics.recall_score(test_y,pred_test_boost)"
   ]
  },
  {
   "cell_type": "code",
   "execution_count": 116,
   "metadata": {},
   "outputs": [
    {
     "data": {
      "text/plain": [
       "0.12552653748946924"
      ]
     },
     "execution_count": 116,
     "metadata": {},
     "output_type": "execute_result"
    }
   ],
   "source": [
    "# Precision\n",
    "metrics.precision_score(test_y,pred_test_boost)"
   ]
  },
  {
   "cell_type": "code",
   "execution_count": 117,
   "metadata": {},
   "outputs": [
    {
     "data": {
      "text/plain": [
       "array([[111049,  50862],\n",
       "       [  1944,   7301]], dtype=int64)"
      ]
     },
     "execution_count": 117,
     "metadata": {},
     "output_type": "execute_result"
    }
   ],
   "source": [
    "Confus_test_boost = confusion_matrix(test_y,pred_test_boost)\n",
    "Confus_test_boost"
   ]
  },
  {
   "cell_type": "code",
   "execution_count": 118,
   "metadata": {},
   "outputs": [
    {
     "data": {
      "text/plain": [
       "0.6914744443665428"
      ]
     },
     "execution_count": 118,
     "metadata": {},
     "output_type": "execute_result"
    }
   ],
   "source": [
    "# Accuracy\n",
    "metrics.accuracy_score(test_y,pred_test_boost)"
   ]
  },
  {
   "cell_type": "code",
   "execution_count": 119,
   "metadata": {},
   "outputs": [
    {
     "name": "stdout",
     "output_type": "stream",
     "text": [
      "              precision    recall  f1-score   support\n",
      "\n",
      "           0       0.98      0.69      0.81    161911\n",
      "           1       0.13      0.79      0.22      9245\n",
      "\n",
      "   micro avg       0.69      0.69      0.69    171156\n",
      "   macro avg       0.55      0.74      0.51    171156\n",
      "weighted avg       0.94      0.69      0.78    171156\n",
      "\n"
     ]
    }
   ],
   "source": [
    "# classification report# View the performance of the Ada Boost model\n",
    "report=classification_report(test_y,pred_test_boost)\n",
    "print(report)"
   ]
  },
  {
   "cell_type": "markdown",
   "metadata": {},
   "source": [
    "                       7. Finalizing, Cross-Validating, Viewing the Performance"
   ]
  },
  {
   "cell_type": "code",
   "execution_count": 120,
   "metadata": {},
   "outputs": [
    {
     "data": {
      "image/png": "[encoded data removed]",
      "text/plain": [
       "<Figure size 432x288 with 2 Axes>"
      ]
     },
     "metadata": {
      "needs_background": "light"
     },
     "output_type": "display_data"
    }
   ],
   "source": [
    "%matplotlib inline\n",
    "import seaborn as sns\n",
    "ax=plt.subplot()\n",
    "sns.heatmap(Confus_test_boost,annot=True,ax=ax);\n",
    "# labels, title\n",
    "ax.set_xlabel('Predicted values');ax.set_ylabel('Actual Values');ax.set_title('Ada Boost Matrix')\n",
    "ax.xaxis.set_ticklabels(['Non_Default','Default']);ax.yaxis.set_ticklabels(['Non_Default','Default']);"
   ]
  },
  {
   "cell_type": "markdown",
   "metadata": {},
   "source": [
    "Confusion Matrix for Decision Tree"
   ]
  },
  {
   "cell_type": "code",
   "execution_count": 121,
   "metadata": {},
   "outputs": [
    {
     "data": {
      "image/png": "[encoded data removed]",
      "text/plain": [
       "<Figure size 432x288 with 2 Axes>"
      ]
     },
     "metadata": {
      "needs_background": "light"
     },
     "output_type": "display_data"
    }
   ],
   "source": [
    "%matplotlib inline\n",
    "import seaborn as sns\n",
    "ax=plt.subplot()\n",
    "sns.heatmap(Confusion_Mat_test_DT,annot=True,ax=ax);\n",
    "# labels, title\n",
    "ax.set_xlabel('Predicted values');ax.set_ylabel('Actual Values');ax.set_title('Decision Tree Matrix')\n",
    "ax.xaxis.set_ticklabels(['Non_Default','Default']);ax.yaxis.set_ticklabels(['Non_Default','Default']);"
   ]
  },
  {
   "cell_type": "markdown",
   "metadata": {},
   "source": [
    "When comparing ada boost with decison tree model, false positive is less and better than decision tree model. So Ada Boost model is considered as the final model"
   ]
  },
  {
   "cell_type": "markdown",
   "metadata": {},
   "source": [
    "                     Cross Validation on Adaptive Boosting Model"
   ]
  },
  {
   "cell_type": "code",
   "execution_count": 122,
   "metadata": {},
   "outputs": [],
   "source": [
    "from sklearn.model_selection import cross_val_score"
   ]
  },
  {
   "cell_type": "code",
   "execution_count": 123,
   "metadata": {},
   "outputs": [],
   "source": [
    "scorer={'recall_score': make_scorer(recall_score)}\n",
    "cross_val=cross_val_score(m1,train_x_2,train_y,cv=5,scoring='recall',n_jobs=-1)"
   ]
  },
  {
   "cell_type": "code",
   "execution_count": 124,
   "metadata": {},
   "outputs": [
    {
     "data": {
      "text/plain": [
       "array([0.78152729, 0.77238505, 0.77803173, 0.77679172, 0.76845502])"
      ]
     },
     "execution_count": 124,
     "metadata": {},
     "output_type": "execute_result"
    }
   ],
   "source": [
    "cross_val"
   ]
  },
  {
   "cell_type": "markdown",
   "metadata": {},
   "source": [
    "                 View the performance of the Ada Boost model"
   ]
  },
  {
   "cell_type": "code",
   "execution_count": 125,
   "metadata": {},
   "outputs": [],
   "source": [
    "from sklearn.metrics import roc_auc_score"
   ]
  },
  {
   "cell_type": "code",
   "execution_count": 126,
   "metadata": {},
   "outputs": [
    {
     "data": {
      "text/plain": [
       "array([0.49594456, 0.50174995, 0.4970741 , ..., 0.50165215, 0.50005554,\n",
       "       0.4942108 ])"
      ]
     },
     "execution_count": 126,
     "metadata": {},
     "output_type": "execute_result"
    }
   ],
   "source": [
    "# calculate probabilities for the test data\n",
    "test_pred_prob=m1.predict_proba(test_x_2)\n",
    "# take the second column,because the classifier outputs scores for the 0 class as well\n",
    "Pred_Y_Prob = test_pred_prob[:,1]\n",
    "Pred_Y_Prob"
   ]
  },
  {
   "cell_type": "code",
   "execution_count": 127,
   "metadata": {},
   "outputs": [
    {
     "data": {
      "text/plain": [
       "0.8069305360119139"
      ]
     },
     "execution_count": 127,
     "metadata": {},
     "output_type": "execute_result"
    }
   ],
   "source": [
    "# For auc value\n",
    "ada_roc_auc=roc_auc_score(test_y,Pred_Y_Prob)\n",
    "ada_roc_auc"
   ]
  },
  {
   "cell_type": "code",
   "execution_count": 128,
   "metadata": {},
   "outputs": [],
   "source": [
    "# For ROC curve\n",
    "fpr,tpr,thresholds=roc_curve(test_y,Pred_Y_Prob)"
   ]
  },
  {
   "cell_type": "code",
   "execution_count": 129,
   "metadata": {},
   "outputs": [
    {
     "data": {
      "image/png": "[encoded data removed]",
      "text/plain": [
       "<Figure size 432x288 with 1 Axes>"
      ]
     },
     "metadata": {
      "needs_background": "light"
     },
     "output_type": "display_data"
    }
   ],
   "source": [
    "# ROC Curve plot\n",
    "%matplotlib inline\n",
    "plt.figure()\n",
    "plt.plot(fpr,tpr,label='ada_boost(area=%0.2f)'% ada_roc_auc)\n",
    "plt.plot([0,1],[0,1],'r--')\n",
    "plt.xlim([0.0,1.0])\n",
    "plt.ylim([0.0,1.05])\n",
    "plt.xlabel('False Positive Rate')\n",
    "plt.ylabel('True Positive Rate')\n",
    "plt.title('Receiver Operating Characteristic')\n",
    "plt.legend(loc=\"lower right\")\n",
    "plt.savefig('ada_roc')\n",
    "plt.show()"
   ]
  },
  {
   "cell_type": "code",
   "execution_count": 130,
   "metadata": {},
   "outputs": [
    {
     "data": {
      "text/plain": [
       "0.5000102263807218"
      ]
     },
     "execution_count": 130,
     "metadata": {},
     "output_type": "execute_result"
    }
   ],
   "source": [
    "# Optimal Cut-off point\n",
    "optimal_idx = np.argmax(tpr - fpr)\n",
    "optimal_threshold = thresholds[optimal_idx]\n",
    "optimal_threshold"
   ]
  },
  {
   "cell_type": "code",
   "execution_count": 131,
   "metadata": {},
   "outputs": [
    {
     "data": {
      "text/plain": [
       "0.7897241752298539"
      ]
     },
     "execution_count": 131,
     "metadata": {},
     "output_type": "execute_result"
    }
   ],
   "source": [
    "# predict using the optimal cut-off point\n",
    "optimal_val=pd.DataFrame({'default':Pred_Y_Prob})\n",
    "optimal_val['default_class']=optimal_val['default']\n",
    "optimal_val.default_class=np.where(optimal_val.default_class >0.5,1,0)\n",
    "# Recall\n",
    "metrics.recall_score(test_y,optimal_val['default_class']) "
   ]
  },
  {
   "cell_type": "code",
   "execution_count": 132,
   "metadata": {},
   "outputs": [
    {
     "data": {
      "text/plain": [
       "0.6914744443665428"
      ]
     },
     "execution_count": 132,
     "metadata": {},
     "output_type": "execute_result"
    }
   ],
   "source": [
    "metrics.accuracy_score(test_y,optimal_val['default_class'])"
   ]
  },
  {
   "cell_type": "code",
   "execution_count": 133,
   "metadata": {},
   "outputs": [
    {
     "data": {
      "text/plain": [
       "array([[111049,  50862],\n",
       "       [  1944,   7301]], dtype=int64)"
      ]
     },
     "execution_count": 133,
     "metadata": {},
     "output_type": "execute_result"
    }
   ],
   "source": [
    "Confus_Matrix = confusion_matrix(test_y,optimal_val['default_class'])\n",
    "Confus_Matrix"
   ]
  },
  {
   "cell_type": "code",
   "execution_count": null,
   "metadata": {},
   "outputs": [],
   "source": []
  }
 ],
 "metadata": {
  "kernelspec": {
   "display_name": "Python 3",
   "language": "python",
   "name": "python3"
  },
  "language_info": {
   "codemirror_mode": {
    "name": "ipython",
    "version": 3
   },
   "file_extension": ".py",
   "mimetype": "text/x-python",
   "name": "python",
   "nbconvert_exporter": "python",
   "pygments_lexer": "ipython3",
   "version": "3.7.3"
  }
 },
 "nbformat": 4,
 "nbformat_minor": 2
}
